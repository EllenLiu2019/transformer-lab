{
 "cells": [
  {
   "cell_type": "markdown",
   "id": "b4873f83",
   "metadata": {
    "origin_pos": 0
   },
   "source": [
    "# 自动微分\n",
    ":label:`sec_autograd`\n",
    "\n",
    "深度学习框架通过自动计算导数，即 *自动微分*（automatic differentiation）来加快求导。\n",
    "\n",
    "* 实际中，根据设计好的模型，系统会构建一个 *计算图*（computational graph），来跟踪计算是哪些数据通过哪些操作组合起来产生输出。\n",
    "* *自动微分* 使系统能够随后 *反向传播* 梯度。*反向传播*（backpropagate）意味着跟踪整个计算图，填充关于每个参数的偏导数。\n",
    "\n",
    "## 一个简单的例子\n",
    "\n",
    "假设我们想对函数 $y=2\\mathbf{x}^{\\top}\\mathbf{x}$ 关于列向量 $\\mathbf{x}$ 求导\n",
    "\n",
    "首先，我们创建变量 `x` 并为其分配一个初始值。\n"
   ]
  },
  {
   "cell_type": "code",
   "id": "98cd8a9e",
   "metadata": {
    "execution": {
     "iopub.execute_input": "2023-08-18T07:07:31.627945Z",
     "iopub.status.busy": "2023-08-18T07:07:31.627424Z",
     "iopub.status.idle": "2023-08-18T07:07:32.686372Z",
     "shell.execute_reply": "2023-08-18T07:07:32.685559Z"
    },
    "origin_pos": 2,
    "tab": [
     "pytorch"
    ],
    "ExecuteTime": {
     "end_time": "2025-10-13T04:32:27.538040Z",
     "start_time": "2025-10-13T04:32:26.705295Z"
    }
   },
   "source": [
    "import torch\n",
    "\n",
    "x = torch.arange(4.0)\n",
    "x"
   ],
   "outputs": [
    {
     "data": {
      "text/plain": [
       "tensor([0., 1., 2., 3.])"
      ]
     },
     "execution_count": 3,
     "metadata": {},
     "output_type": "execute_result"
    }
   ],
   "execution_count": 3
  },
  {
   "cell_type": "markdown",
   "id": "ec430520",
   "metadata": {
    "origin_pos": 5
   },
   "source": [
    "在我们计算 $y$ 关于 $\\mathbf{x}$ 的梯度之前，需要一个地方来存储梯度\n",
    "\n",
    "我们不会在每次对一个参数求导时都分配新的内存。因为经常会成千上万次地更新相同的参数，每次都分配新的内存可能很快就会将内存耗尽。注意，一个标量函数关于向量 $\\mathbf{x}$ 的梯度是向量，并且与 $\\mathbf{x}$ 具有相同的形状。\n",
    "\n",
    "**计算图的概念**\n",
    "\n",
    "* 计算图是 PyTorch 用来跟踪张量操作的有向无环图(DAG)\n",
    "* 当张量设置了 requires_grad=True 时，所有基于该张量的操作都会被记录在计算图中\n",
    "* 这些记录用于后续的反向传播计算梯度"
   ]
  },
  {
   "cell_type": "code",
   "id": "e27a5df4",
   "metadata": {
    "execution": {
     "iopub.execute_input": "2023-08-18T07:07:32.690633Z",
     "iopub.status.busy": "2023-08-18T07:07:32.689882Z",
     "iopub.status.idle": "2023-08-18T07:07:32.694159Z",
     "shell.execute_reply": "2023-08-18T07:07:32.693367Z"
    },
    "origin_pos": 7,
    "tab": [
     "pytorch"
    ],
    "ExecuteTime": {
     "end_time": "2025-10-13T04:32:40.901318Z",
     "start_time": "2025-10-13T04:32:40.889181Z"
    }
   },
   "source": [
    "x.requires_grad_(True)  # 等价于x=torch.arange(4.0,requires_grad=True)\n",
    "print(x)\n",
    "print(x.grad)# 默认值是None"
   ],
   "outputs": [
    {
     "name": "stdout",
     "output_type": "stream",
     "text": [
      "tensor([0., 1., 2., 3.], requires_grad=True)\n",
      "None\n"
     ]
    }
   ],
   "execution_count": 5
  },
  {
   "cell_type": "markdown",
   "id": "bd993524",
   "metadata": {
    "origin_pos": 10
   },
   "source": [
    "(**现在计算$y$。**)\n"
   ]
  },
  {
   "cell_type": "code",
   "id": "4c3f80b7",
   "metadata": {
    "execution": {
     "iopub.execute_input": "2023-08-18T07:07:32.698006Z",
     "iopub.status.busy": "2023-08-18T07:07:32.697167Z",
     "iopub.status.idle": "2023-08-18T07:07:32.705385Z",
     "shell.execute_reply": "2023-08-18T07:07:32.704593Z"
    },
    "origin_pos": 12,
    "tab": [
     "pytorch"
    ],
    "ExecuteTime": {
     "end_time": "2025-10-13T02:58:06.857675Z",
     "start_time": "2025-10-13T02:58:06.848048Z"
    }
   },
   "source": [
    "y = 2 * torch.dot(x, x)\n",
    "y"
   ],
   "outputs": [
    {
     "data": {
      "text/plain": [
       "tensor(28., grad_fn=<MulBackward0>)"
      ]
     },
     "execution_count": 13,
     "metadata": {},
     "output_type": "execute_result"
    }
   ],
   "execution_count": 13
  },
  {
   "cell_type": "markdown",
   "id": "35523dbc",
   "metadata": {
    "origin_pos": 15
   },
   "source": [
    "`x`是一个长度为4的向量，计算`x`和`x`的点积，得到了我们赋值给`y`的标量输出。\n",
    "接下来，[**通过调用反向传播函数来自动计算`y`关于`x`每个分量的梯度**]，并打印这些梯度。\n"
   ]
  },
  {
   "cell_type": "code",
   "id": "a1c3a419",
   "metadata": {
    "execution": {
     "iopub.execute_input": "2023-08-18T07:07:32.708698Z",
     "iopub.status.busy": "2023-08-18T07:07:32.708196Z",
     "iopub.status.idle": "2023-08-18T07:07:32.713924Z",
     "shell.execute_reply": "2023-08-18T07:07:32.713091Z"
    },
    "origin_pos": 17,
    "tab": [
     "pytorch"
    ],
    "ExecuteTime": {
     "end_time": "2025-10-13T02:58:37.946879Z",
     "start_time": "2025-10-13T02:58:37.937750Z"
    }
   },
   "source": [
    "y.backward()\n",
    "x.grad"
   ],
   "outputs": [
    {
     "data": {
      "text/plain": [
       "tensor([ 0.,  4.,  8., 12.])"
      ]
     },
     "execution_count": 14,
     "metadata": {},
     "output_type": "execute_result"
    }
   ],
   "execution_count": 14
  },
  {
   "cell_type": "markdown",
   "id": "dca6a271",
   "metadata": {
    "origin_pos": 20
   },
   "source": [
    "函数$y=2\\mathbf{x}^{\\top}\\mathbf{x}$关于$\\mathbf{x}$的梯度应为$4\\mathbf{x}$。\n",
    "让我们快速验证这个梯度是否计算正确。\n"
   ]
  },
  {
   "cell_type": "code",
   "id": "b8493d0a",
   "metadata": {
    "execution": {
     "iopub.execute_input": "2023-08-18T07:07:32.718858Z",
     "iopub.status.busy": "2023-08-18T07:07:32.718156Z",
     "iopub.status.idle": "2023-08-18T07:07:32.724091Z",
     "shell.execute_reply": "2023-08-18T07:07:32.723104Z"
    },
    "origin_pos": 22,
    "tab": [
     "pytorch"
    ],
    "ExecuteTime": {
     "end_time": "2025-10-13T03:01:26.091781Z",
     "start_time": "2025-10-13T03:01:26.080280Z"
    }
   },
   "source": [
    "x.grad == 4 * x\n",
    "print(f\"x: {x}\")\n",
    "print(f\"x.grad: {x.grad}\")"
   ],
   "outputs": [
    {
     "name": "stdout",
     "output_type": "stream",
     "text": [
      "x: tensor([0., 1., 2., 3.], requires_grad=True)\n",
      "x.grad: tensor([1., 1., 1., 1.])\n"
     ]
    }
   ],
   "execution_count": 24
  },
  {
   "cell_type": "markdown",
   "id": "2733c623",
   "metadata": {
    "origin_pos": 25
   },
   "source": [
    "[**现在计算`x`的另一个函数。**]\n",
    "\n",
    "常数标量：如果标量是一个常数 $ c $，那么它的导数为： $$ \\frac{d}{dx} c = 0 $$\n",
    "\n",
    "变量标量：如果标量是自变量本身，例如 $ x $，那么它的导数为： $$ \\frac{d}{dx} x = 1 $$\n",
    "\n",
    "函数标量：如果标量是一个关于某个变量的函数 $ f(x) $，则其导数根据具体函数形式计算，例如：\n",
    "\n",
    "对于 $ f(x) = x^2 $，导数为 $ f'(x) = 2x $\n",
    "对于 $ f(x) = \\sin(x) $，导数为 $ f'(x) = \\cos(x) $\n"
   ]
  },
  {
   "cell_type": "code",
   "id": "f2fcd392",
   "metadata": {
    "execution": {
     "iopub.execute_input": "2023-08-18T07:07:32.729368Z",
     "iopub.status.busy": "2023-08-18T07:07:32.728433Z",
     "iopub.status.idle": "2023-08-18T07:07:32.736493Z",
     "shell.execute_reply": "2023-08-18T07:07:32.735715Z"
    },
    "origin_pos": 27,
    "tab": [
     "pytorch"
    ],
    "ExecuteTime": {
     "end_time": "2025-10-13T03:10:55.357912Z",
     "start_time": "2025-10-13T03:10:55.347160Z"
    }
   },
   "source": [
    "# 在默认情况下，PyTorch会累积梯度，我们需要清零 x 的梯度缓冲区，避免之前计算的梯度累积影响当前计算\n",
    "x.grad.zero_()\n",
    "print(f\"x: {x}\")\n",
    "print(f\"x.grad: {x.grad}\")\n",
    "\n",
    "# 计算 x 向量所有元素的和，得到标量 y\n",
    "# y = x[0] + x[1] + x[2] + x[3]\n",
    "y = x.sum()\n",
    "print(f\"y=x.sum(): {y}\")\n",
    "\n",
    "# 对标量 y 执行反向传播，计算 y 关于 x 的梯度\n",
    "# 每个 x[i] 的偏导数都是 1\n",
    "y.backward()\n",
    "print(f\"对标量 y 执行反向传播后，x的导数为： {x.grad}\")"
   ],
   "outputs": [
    {
     "name": "stdout",
     "output_type": "stream",
     "text": [
      "x: tensor([0., 1., 2., 3.], requires_grad=True)\n",
      "x.grad: tensor([0., 0., 0., 0.])\n",
      "y=x.sum(): 6.0\n",
      "对标量 y 执行反向传播后，x的导数为： tensor([1., 1., 1., 1.])\n"
     ]
    }
   ],
   "execution_count": 33
  },
  {
   "cell_type": "markdown",
   "id": "58f4f459",
   "metadata": {
    "origin_pos": 30
   },
   "source": [
    "## 非标量变量的反向传播\n",
    "\n",
    "当 `y` 不是标量时，向量 `y` 关于向量 `x` 的导数的最自然解释是一个矩阵。\n",
    "对于高阶和高维的 `y` 和 `x` ，求导的结果可以是一个高阶张量。\n",
    "\n",
    "然而，虽然这些更奇特的对象确实出现在高级机器学习中（包括 [**深度学习中**] ），但当调用向量的反向计算时，我们通常会试图计算一批训练样本中每个组成部分的损失函数的导数。\n",
    "\n",
    "**我们的目的不是计算微分矩阵，而是单独计算批量中每个样本的偏导数之和。**\n"
   ]
  },
  {
   "cell_type": "code",
   "id": "f4e62a5d",
   "metadata": {
    "execution": {
     "iopub.execute_input": "2023-08-18T07:07:32.740109Z",
     "iopub.status.busy": "2023-08-18T07:07:32.739419Z",
     "iopub.status.idle": "2023-08-18T07:07:32.745803Z",
     "shell.execute_reply": "2023-08-18T07:07:32.744893Z"
    },
    "origin_pos": 32,
    "tab": [
     "pytorch"
    ],
    "ExecuteTime": {
     "end_time": "2025-10-13T03:30:34.037107Z",
     "start_time": "2025-10-13T03:30:34.020332Z"
    }
   },
   "source": [
    "# 对非标量调用backward需要传入一个gradient参数，该参数指定微分函数关于self的梯度。\n",
    "# 本例只想求偏导数的和，所以传递一个1的梯度是合适的\n",
    "x.grad.zero_()\n",
    "\n",
    "# y = [x[0]*x[0], x[1]*x[1], x[2]*x[2], x[3]*x[3]]\n",
    "y = x * x\n",
    "print(f\"y = x * x:\\n {y}\")\n",
    "\n",
    "# z = x[0]*x[0] + x[1]*x[1] + x[2]*x[2] + x[3]*x[3] = 0 + 1 + 4 + 9 = 14\n",
    "z = y.sum()\n",
    "print(f\"\\nz = y.sum():\\n {z}\")\n",
    "\n",
    "# 等价于y.backward(torch.ones(len(x)))\n",
    "# 对标量 z 执行反向传播，计算 z 关于 x 的梯度，结果应为：[2x[0], 2x[1], 2x[2], 2x[3]] = [0, 2, 4, 6]\n",
    "z.backward()\n",
    "print(f\"\\n对向量 z 执行反向传播后，x 的导数为：\\n{x.grad}\")"
   ],
   "outputs": [
    {
     "name": "stdout",
     "output_type": "stream",
     "text": [
      "y = x * x:\n",
      " tensor([0., 1., 4., 9.], grad_fn=<MulBackward0>)\n",
      "\n",
      "z = y.sum():\n",
      " 14.0\n",
      "\n",
      "对向量 z 执行反向传播后，x 的导数为：\n",
      "tensor([0., 2., 4., 6.])\n"
     ]
    }
   ],
   "execution_count": 45
  },
  {
   "cell_type": "markdown",
   "id": "80f510c4",
   "metadata": {
    "origin_pos": 35
   },
   "source": [
    "## 分离计算\n",
    "\n",
    "有时，我们希望 [**将某些计算移动到记录的计算图之外**]。\n",
    "\n",
    "例如，假设 `y` 是作为 `x` 的函数计算的，而 `z` 则是作为 `y` 和 `x` 的函数计算的。\n",
    "想象一下，我们想计算`z`关于`x`的梯度，但由于某种原因，希望将`y`视为一个常数，\n",
    "并且只考虑到`x`在`y`被计算后发挥的作用。\n",
    "\n",
    "这里可以分离`y`来返回一个新变量`u`，该变量与`y`具有相同的值，\n",
    "但丢弃计算图中如何计算`y`的任何信息。\n",
    "换句话说，梯度不会向后流经`u`到`x`。\n",
    "因此，下面的反向传播函数计算`z=u*x`关于`x`的偏导数，同时将`u`作为常数处理，\n",
    "而不是`z=x*x*x`关于`x`的偏导数。\n"
   ]
  },
  {
   "cell_type": "code",
   "id": "8dab493d",
   "metadata": {
    "execution": {
     "iopub.execute_input": "2023-08-18T07:07:32.749398Z",
     "iopub.status.busy": "2023-08-18T07:07:32.748759Z",
     "iopub.status.idle": "2023-08-18T07:07:32.755280Z",
     "shell.execute_reply": "2023-08-18T07:07:32.754543Z"
    },
    "origin_pos": 37,
    "tab": [
     "pytorch"
    ],
    "ExecuteTime": {
     "end_time": "2025-10-13T03:53:37.564890Z",
     "start_time": "2025-10-13T03:53:37.502506Z"
    }
   },
   "source": [
    "x.grad.zero_()\n",
    "print(f\"x:\\n{x}\")\n",
    "\n",
    "# y = [x[0]*x[0], x[1]*x[1], x[2]*x[2], x[3]*x[3]]\n",
    "# 此操作会被记录在计算图中，因为 x 具有 requires_grad=True\n",
    "y = x * x\n",
    "print(f\"\\ny = x * x:\\n{y}\")\n",
    "\n",
    "# u = [x[0]*x[0], x[1]*x[1], x[2]*x[2], x[3]*x[3]]\n",
    "# 创建 y 的副本 u， u 与 y 数值相同，但脱离了计算图，不记录梯度信息\n",
    "u = y.detach()\n",
    "print(f\"\\nu = y.detach():\\n{u}\")\n",
    "\n",
    "# z = [x[0]*x[0]*x[0], x[1]*x[1]*x[1], x[2]*x[2]*x[2], x[3]*x[3]*x[3]]\n",
    "# 由于 u 脱离了计算图，此操作只记录 x 的贡献\n",
    "z = u * x\n",
    "print(f\"\\nz = u * x:\\n{z}\")\n",
    "\n",
    "# w = [x[0]*x[0]*x[0] + x[1]*x[1]*x[1] + x[2]*x[2]*x[2] + x[3]*x[3]*x[3]]\n",
    "# 对 z 求和得到标量 w = 36.0\n",
    "w = z.sum()\n",
    "print(f\"\\nw = z.sum():\\n{w}\")\n",
    "\n",
    "# 计算 w 关于 x 的梯度：由于 w = u * x，且 u 被视为常数，所以 dw/dx = u，因此 x.grad 应该等于 u\n",
    "w.backward()\n",
    "print(f\"\\n对向量 w 执行反向传播后，x 的导数为：\\n{x.grad}\")\n",
    "print(f\"\\n对向量 w 执行反向传播后，x 的导数是否与u相同：\\n{x.grad == u}\")"
   ],
   "outputs": [
    {
     "name": "stdout",
     "output_type": "stream",
     "text": [
      "x:\n",
      "tensor([0., 1., 2., 3.], requires_grad=True)\n",
      "\n",
      "y = x * x:\n",
      "tensor([0., 1., 4., 9.], grad_fn=<MulBackward0>)\n",
      "\n",
      "u = y.detach():\n",
      "tensor([0., 1., 4., 9.])\n",
      "\n",
      "z = u * x:\n",
      "tensor([ 0.,  1.,  8., 27.], grad_fn=<MulBackward0>)\n",
      "\n",
      "w = z.sum():\n",
      "36.0\n",
      "\n",
      "对向量 w 执行反向传播后，x 的导数为：\n",
      "tensor([0., 1., 4., 9.])\n",
      "\n",
      "对向量 w 执行反向传播后，x 的导数是否与u相同：\n",
      "tensor([True, True, True, True])\n"
     ]
    }
   ],
   "execution_count": 53
  },
  {
   "metadata": {},
   "cell_type": "markdown",
   "source": [
    "**detach()的作用机制**\n",
    "* 数据共享：u = y.detach() 创建的新张量 u 与 y 共享相同的数据，数值完全相同\n",
    "* 断开连接：u 不保留任何关于如何计算出 y 的信息，即断开了与 **计算图** 的连接，即，将 u 中的每个元素视为一个常数\n",
    "* 梯度隔离：在后续计算中使用u时，梯度不会通过 u 反向传播到 y 的计算过程中"
   ],
   "id": "ddbbc904f0c75146"
  },
  {
   "cell_type": "markdown",
   "id": "f8fe6f9c",
   "metadata": {
    "origin_pos": 40
   },
   "source": [
    "由于记录了`y`的计算结果，我们可以随后在`y`上调用反向传播，\n",
    "得到`y=x*x`关于的`x`的导数，即`2*x`。\n"
   ]
  },
  {
   "cell_type": "code",
   "execution_count": 9,
   "id": "271a9b3a",
   "metadata": {
    "execution": {
     "iopub.execute_input": "2023-08-18T07:07:32.759344Z",
     "iopub.status.busy": "2023-08-18T07:07:32.758633Z",
     "iopub.status.idle": "2023-08-18T07:07:32.764663Z",
     "shell.execute_reply": "2023-08-18T07:07:32.763922Z"
    },
    "origin_pos": 42,
    "tab": [
     "pytorch"
    ]
   },
   "outputs": [
    {
     "data": {
      "text/plain": [
       "tensor([True, True, True, True])"
      ]
     },
     "execution_count": 9,
     "metadata": {},
     "output_type": "execute_result"
    }
   ],
   "source": [
    "x.grad.zero_()\n",
    "y.sum().backward()\n",
    "x.grad == 2 * x"
   ]
  },
  {
   "cell_type": "markdown",
   "id": "fd79d12f",
   "metadata": {
    "origin_pos": 45
   },
   "source": [
    "## Python控制流的梯度计算\n",
    "\n",
    "使用自动微分的一个好处是：\n",
    "\n",
    "[**即使构建函数的计算图需要通过 Python 控制流（例如，条件、循环或任意函数调用），我们仍然可以计算得到的变量的梯度**]。\n",
    "\n",
    "在下面的代码中，`while`循环的迭代次数和`if`语句的结果都取决于输入`a`的值。\n"
   ]
  },
  {
   "cell_type": "code",
   "id": "6323b2ff",
   "metadata": {
    "execution": {
     "iopub.execute_input": "2023-08-18T07:07:32.769249Z",
     "iopub.status.busy": "2023-08-18T07:07:32.768616Z",
     "iopub.status.idle": "2023-08-18T07:07:32.773175Z",
     "shell.execute_reply": "2023-08-18T07:07:32.772293Z"
    },
    "origin_pos": 47,
    "tab": [
     "pytorch"
    ],
    "ExecuteTime": {
     "end_time": "2025-10-13T04:01:57.482156Z",
     "start_time": "2025-10-13T04:01:57.469863Z"
    }
   },
   "source": [
    "def f(a):\n",
    "    b = a * 2\n",
    "    while b.norm() < 1000: # b 不断乘以 2，直到其范数(default:L2)大于等于 1000 为止。\n",
    "        b = b * 2\n",
    "    if b.sum() > 0:\n",
    "        c = b\n",
    "    else:\n",
    "        c = 100 * b\n",
    "    return c"
   ],
   "outputs": [],
   "execution_count": 54
  },
  {
   "cell_type": "markdown",
   "id": "51aaf333",
   "metadata": {
    "origin_pos": 50
   },
   "source": [
    "让我们计算梯度。\n"
   ]
  },
  {
   "cell_type": "code",
   "id": "7719d6b6",
   "metadata": {
    "execution": {
     "iopub.execute_input": "2023-08-18T07:07:32.777740Z",
     "iopub.status.busy": "2023-08-18T07:07:32.777207Z",
     "iopub.status.idle": "2023-08-18T07:07:32.782254Z",
     "shell.execute_reply": "2023-08-18T07:07:32.781458Z"
    },
    "origin_pos": 52,
    "tab": [
     "pytorch"
    ],
    "ExecuteTime": {
     "end_time": "2025-10-13T04:20:42.487602Z",
     "start_time": "2025-10-13T04:20:42.427728Z"
    }
   },
   "source": [
    "a = torch.randn(size=(), requires_grad=True)\n",
    "print(a)\n",
    "d = f(a)\n",
    "d.backward()"
   ],
   "outputs": [
    {
     "name": "stdout",
     "output_type": "stream",
     "text": [
      "tensor(1.3293, requires_grad=True)\n"
     ]
    }
   ],
   "execution_count": 74
  },
  {
   "cell_type": "markdown",
   "id": "816a1ac2",
   "metadata": {
    "origin_pos": 55
   },
   "source": [
    "`f` 函数在其输入 `a` 中是分段线性的。\n",
    "\n",
    "对于任何 `a`，存在某个常量标量 `k`，使得 `f(a) = k * a` ，其中 `k` 的值取决于输入 `a` ，可以用 `f(a)/a` 验证梯度计算是否正确。\n",
    "\n",
    "`f(a)/a` 代表了这个比例常数 k：\n",
    "* 斜率: 在几何意义上，这表示函数图像的斜率\n",
    "* 比例因子: 表示输出相对于输入的放大倍数\n",
    "* 导数: 由于函数是分段线性的，`f(a)/a` 实际上就是该函数的导数（梯度）\n"
   ]
  },
  {
   "cell_type": "code",
   "id": "2595bdc0",
   "metadata": {
    "execution": {
     "iopub.execute_input": "2023-08-18T07:07:32.785728Z",
     "iopub.status.busy": "2023-08-18T07:07:32.785179Z",
     "iopub.status.idle": "2023-08-18T07:07:32.790672Z",
     "shell.execute_reply": "2023-08-18T07:07:32.789892Z"
    },
    "origin_pos": 57,
    "tab": [
     "pytorch"
    ],
    "ExecuteTime": {
     "end_time": "2025-10-13T04:21:55.453739Z",
     "start_time": "2025-10-13T04:21:55.441302Z"
    }
   },
   "source": [
    "print(f\"a:\\n{a}\")\n",
    "print(f\"\\nd:\\n{d}\")\n",
    "print(f\"\\n对向量 d 执行反向传播后，x 的导数为：\\n{a.grad}\")\n",
    "print(f\"\\n对向量 d 执行反向传播后，x 的导数是否与 f(a) / a 相同：\\n{a.grad == f(a)  / a}\")"
   ],
   "outputs": [
    {
     "name": "stdout",
     "output_type": "stream",
     "text": [
      "a:\n",
      "1.3292715549468994\n",
      "\n",
      "d:\n",
      "1361.174072265625\n",
      "\n",
      "对向量 d 执行反向传播后，x 的导数为：\n",
      "1024.0\n",
      "\n",
      "对向量 d 执行反向传播后，x 的导数是否与 f(a) / a 相同：\n",
      "True\n"
     ]
    }
   ],
   "execution_count": 78
  },
  {
   "cell_type": "markdown",
   "id": "67fb5517",
   "metadata": {
    "origin_pos": 60
   },
   "source": [
    "## 小结\n",
    "\n",
    "* 深度学习框架可以自动计算导数：我们首先将梯度附加到想要对其计算偏导数的变量上，然后记录目标值的计算，执行它的反向传播函数，并访问得到的梯度。"
   ]
  },
  {
   "metadata": {},
   "cell_type": "markdown",
   "source": [
    "# 回忆数学概念\n",
    "标准正态分布是一种重要的概率分布，其定义如下：\n",
    "* 均值（期望）：μ = 0\n",
    "* 标准差：σ = 1\n",
    "* 方差：σ² = 1\n",
    "\n",
    "数学表示：标准正态分布的概率密度函数为：\n",
    "\n",
    "$$f(x) = \\frac{1}{\\sqrt{2\\pi}}e^{-\\frac{x^2}{2}}$$\n",
    "\n",
    "主要特征\n",
    "* 对称性：关于y轴对称\n",
    "* 峰值：在 x = 0 处达到最大值 $\\frac{1}{\\sqrt{2\\pi}} \\approx 0.3989$\n",
    "* 拐点：在 x = ±1 处\n",
    "* 尾部行为：随着|x|增大，函数值快速趋近于0\n",
    "\n",
    "实际应用\n",
    "* 在PyTorch中，torch.randn 函数就是用来生成服从标准正态分布的随机数，常用于：\n",
    "* 神经网络权重的初始化\n",
    "* 随机采样\n",
    "* 生成噪声数据\n",
    "* 蒙特卡洛模拟等场景"
   ],
   "id": "fa22774b99b071af"
  },
  {
   "metadata": {
    "ExecuteTime": {
     "end_time": "2025-10-13T04:34:22.409515Z",
     "start_time": "2025-10-13T04:34:05.596434Z"
    }
   },
   "cell_type": "code",
   "source": [
    "import numpy as np\n",
    "import matplotlib.pyplot as plt\n",
    "from scipy.stats import norm\n",
    "\n",
    "# 生成x轴数据\n",
    "x = np.linspace(-4, 4, 1000)\n",
    "# 计算标准正态分布的概率密度\n",
    "y = norm.pdf(x, loc=0, scale=1)  # 均值=0, 标准差=1\n",
    "\n",
    "# 绘图\n",
    "plt.figure(figsize=(10, 6))\n",
    "plt.plot(x, y, 'b-', linewidth=2, label='Standard normal distribution N(0,1)')\n",
    "plt.xlabel('x')\n",
    "plt.ylabel('probability density')\n",
    "plt.title('Standard normal distribution')\n",
    "plt.grid(True, alpha=0.3)\n",
    "plt.legend()\n",
    "plt.show()\n"
   ],
   "id": "889dc9c0bab73591",
   "outputs": [
    {
     "data": {
      "text/plain": [
       "<Figure size 1000x600 with 1 Axes>"
      ],
      "image/png": "[encoded data removed]"
     },
     "metadata": {},
     "output_type": "display_data"
    }
   ],
   "execution_count": 6
  },
  {
   "metadata": {},
   "cell_type": "markdown",
   "source": [
    "在标准正态分布中，拐点指的是概率密度函数曲线凹凸性发生变化的点。标准正态分布的拐点位于 $x = 1$ 和 $x = -1$ 处的数学解释：\n",
    "\n",
    "对于标准正态分布的概率密度函数： $$f(x) = \\frac{1}{\\sqrt{2\\pi}}e^{-\\frac{x^2}{2}}$$\n",
    "拐点是函数二阶导数等于零的点，即 $f''(x) = 0$ 的解。\n",
    "\n",
    "计算二阶导数：\n",
    "\n",
    "$f'(x) = -x \\cdot f(x)$\n",
    "\n",
    "$f''(x) = (x^2 - 1) \\cdot f(x)$\n",
    "\n",
    "令 $f''(x) = 0$，得到： $(x^2 - 1) \\cdot f(x) = 0$\n",
    "由于 $f(x) > 0$ 恒成立，所以： $x^2 - 1 = 0$\n",
    "解得：$x = 1$ 或 $x = -1$\n",
    "\n",
    "几何意义\n",
    "* 当 $|x| < 1$ 时，$f''(x) < 0$，曲线是凹的（向下弯曲）\n",
    "* 当 $|x| > 1$ 时，$f''(x) > 0$，曲线是凸的（向上弯曲）\n",
    "* 在 $x = ±1$ 处，曲线的凹凸性发生改变，因此这两个点是拐点\n"
   ],
   "id": "7d845586d82a36e1"
  }
 ],
 "metadata": {
  "language_info": {
   "name": "python"
  },
  "required_libs": []
 },
 "nbformat": 4,
 "nbformat_minor": 5
}
