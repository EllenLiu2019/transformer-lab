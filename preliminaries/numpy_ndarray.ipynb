{
 "cells": [
  {
   "metadata": {},
   "cell_type": "markdown",
   "source": [
    "# NumPy\n",
    "\n",
    "NumPy 是用于 Python 中科学计算的一个基础包。它提供了一个多维度的数组对象，以及针对数组对象的各种快速操作，例如排序、变换，选择等。\n",
    "\n",
    "## 创建数组"
   ],
   "id": "e052ea52467c1ae2"
  },
  {
   "cell_type": "code",
   "id": "fbf15bfa-2915-4913-b14b-ab548b50b0cb",
   "metadata": {
    "panel-layout": {
     "height": 0,
     "visible": true,
     "width": 100
    },
    "ExecuteTime": {
     "end_time": "2025-10-12T08:54:19.796452Z",
     "start_time": "2025-10-12T08:54:19.783047Z"
    }
   },
   "source": [
    "import numpy as np\n",
    "arr_1_d = np.asarray([1])\n",
    "print(arr_1_d)"
   ],
   "outputs": [
    {
     "name": "stdout",
     "output_type": "stream",
     "text": [
      "[1]\n"
     ]
    }
   ],
   "execution_count": 6
  },
  {
   "cell_type": "code",
   "id": "97af77a9-7cdc-44e1-9b31-d12b55cda30e",
   "metadata": {
    "panel-layout": {
     "height": 0,
     "visible": true,
     "width": 100
    },
    "ExecuteTime": {
     "end_time": "2025-10-12T08:54:33.055187Z",
     "start_time": "2025-10-12T08:54:33.051714Z"
    }
   },
   "source": [
    "arr_2_d = np.asarray([[1,2],[3,4]])\n",
    "print(arr_2_d)"
   ],
   "outputs": [
    {
     "name": "stdout",
     "output_type": "stream",
     "text": [
      "[[1 2]\n",
      " [3 4]]\n"
     ]
    }
   ],
   "execution_count": 7
  },
  {
   "cell_type": "code",
   "id": "91796281-7dca-4dea-a9a1-f9b1f8e9680f",
   "metadata": {
    "panel-layout": {
     "height": 27.1406,
     "visible": true,
     "width": 100
    },
    "ExecuteTime": {
     "end_time": "2025-10-12T08:54:35.816384Z",
     "start_time": "2025-10-12T08:54:35.810436Z"
    }
   },
   "source": [
    "arr_1_d.ndim"
   ],
   "outputs": [
    {
     "data": {
      "text/plain": [
       "1"
      ]
     },
     "execution_count": 8,
     "metadata": {},
     "output_type": "execute_result"
    }
   ],
   "execution_count": 8
  },
  {
   "cell_type": "code",
   "id": "9d510a22-5351-4cbb-80b6-eb6255971c6c",
   "metadata": {
    "panel-layout": {
     "height": 27.1406,
     "visible": true,
     "width": 100
    },
    "ExecuteTime": {
     "end_time": "2025-10-12T08:54:40.148426Z",
     "start_time": "2025-10-12T08:54:40.139693Z"
    }
   },
   "source": [
    "arr_2_d.ndim"
   ],
   "outputs": [
    {
     "data": {
      "text/plain": [
       "2"
      ]
     },
     "execution_count": 9,
     "metadata": {},
     "output_type": "execute_result"
    }
   ],
   "execution_count": 9
  },
  {
   "cell_type": "markdown",
   "id": "e5a2136e-30a8-420d-b09c-109c258b79dc",
   "metadata": {
    "panel-layout": {
     "height": 110.719,
     "visible": true,
     "width": 100
    }
   },
   "source": [
    "## 数组的属性\n",
    "### shape\n",
    "shape 表示数组的维度或形状， 是一个整数的元组，元组的长度等于 ndim。\n",
    "arr_1_d 的形状就是（1，）（一个向量）， arr_2_d 的形状就是 (2, 2)（一个矩阵）。"
   ]
  },
  {
   "cell_type": "code",
   "execution_count": 22,
   "id": "c41e1dda-c61e-4305-a316-32970e34bcd9",
   "metadata": {
    "panel-layout": {
     "height": 27.1406,
     "visible": true,
     "width": 100
    }
   },
   "outputs": [
    {
     "data": {
      "text/plain": [
       "(1,)"
      ]
     },
     "execution_count": 22,
     "metadata": {},
     "output_type": "execute_result"
    }
   ],
   "source": [
    "arr_1_d.shape"
   ]
  },
  {
   "cell_type": "code",
   "execution_count": 24,
   "id": "ceb557f2-9b45-4493-9360-6f30912966df",
   "metadata": {
    "panel-layout": {
     "height": 27.1406,
     "visible": true,
     "width": 100
    }
   },
   "outputs": [
    {
     "data": {
      "text/plain": [
       "(2, 2)"
      ]
     },
     "execution_count": 24,
     "metadata": {},
     "output_type": "execute_result"
    }
   ],
   "source": [
    "arr_2_d.shape"
   ]
  },
  {
   "cell_type": "markdown",
   "id": "87e3796a-c987-4afa-b00a-75c948a800d9",
   "metadata": {
    "panel-layout": {
     "height": 51.1406,
     "visible": true,
     "width": 100
    }
   },
   "source": [
    "对数组的形状进行变换，就可以使用 arr.reshape() 函数，在不改变数组元素内容的情况下变换数组的形状。"
   ]
  },
  {
   "cell_type": "code",
   "execution_count": 28,
   "id": "3b290af8-72c5-4a6f-a13d-6cced0661899",
   "metadata": {
    "panel-layout": {
     "height": 78.5625,
     "visible": true,
     "width": 100
    }
   },
   "outputs": [
    {
     "data": {
      "text/plain": [
       "array([[1],\n",
       "       [2],\n",
       "       [3],\n",
       "       [4]])"
      ]
     },
     "execution_count": 28,
     "metadata": {},
     "output_type": "execute_result"
    }
   ],
   "source": [
    "arr_2_d.reshape((4,1))"
   ]
  },
  {
   "cell_type": "markdown",
   "id": "95848e09-6508-459d-8810-94bb87eb0d52",
   "metadata": {
    "panel-layout": {
     "height": 97.4219,
     "visible": true,
     "width": 100
    }
   },
   "source": [
    "reshape 函数有个 order 参数，它是指以什么样的顺序读写元素，其中有这样几个参数。\n",
    "- ‘C’：默认参数，使用类似 C-like 语言（行优先）中的索引方式进行读写。\n",
    "- ‘F’：使用类似 Fortran-like 语言（列优先）中的索引方式进行读写。\n",
    "- ‘A’：原数组如果是按照‘C’的方式存储数组，则用‘C’的索引对数组进行 reshape，否则使用’F’的索引方式。"
   ]
  },
  {
   "cell_type": "markdown",
   "id": "449cba12-9967-49e1-8d71-d16b6d3a0699",
   "metadata": {
    "panel-layout": {
     "height": 93.5781,
     "visible": true,
     "width": 100
    }
   },
   "source": [
    "### size\n",
    "数组元素的总数，它就等于 shape 属性中元素的乘积"
   ]
  },
  {
   "cell_type": "code",
   "execution_count": 30,
   "id": "4cd60891-a718-4163-8d73-dd32c82356af",
   "metadata": {
    "panel-layout": {
     "height": 27.1406,
     "visible": true,
     "width": 100
    }
   },
   "outputs": [
    {
     "data": {
      "text/plain": [
       "4"
      ]
     },
     "execution_count": 30,
     "metadata": {},
     "output_type": "execute_result"
    }
   ],
   "source": [
    "arr_2_d.size"
   ]
  },
  {
   "cell_type": "markdown",
   "id": "02255b1b-44ca-4276-8cbb-068e823a98aa",
   "metadata": {
    "panel-layout": {
     "height": 110.719,
     "visible": true,
     "width": 100
    }
   },
   "source": [
    "### dtype\n",
    "描述数组中元素类型的对象。使用 dtype 属性可以查看数组所属的数据类型。\n",
    "NumPy 中大部分常见的数据类型都是支持的，例如 int8、int16、int32、float32、float64 等"
   ]
  },
  {
   "cell_type": "code",
   "execution_count": 32,
   "id": "87ddce87-ce4c-449c-bd2c-a7285f167176",
   "metadata": {
    "panel-layout": {
     "height": 27.1406,
     "visible": true,
     "width": 100
    }
   },
   "outputs": [
    {
     "data": {
      "text/plain": [
       "dtype('int64')"
      ]
     },
     "execution_count": 32,
     "metadata": {},
     "output_type": "execute_result"
    }
   ],
   "source": [
    "arr_2_d.dtype"
   ]
  },
  {
   "cell_type": "code",
   "execution_count": 72,
   "id": "52b147ac-6a2b-4949-8875-5ef8279e2d75",
   "metadata": {
    "panel-layout": {
     "height": 44.2812,
     "visible": true,
     "width": 100
    }
   },
   "outputs": [
    {
     "data": {
      "text/plain": [
       "array([[         0, 1072693248,          0, 1073741824],\n",
       "       [         0, 1074266112,          0, 1074790400]], dtype=int32)"
      ]
     },
     "execution_count": 72,
     "metadata": {},
     "output_type": "execute_result"
    }
   ],
   "source": [
    "# 会创建一个新的数组，arr_2_d 数组不会改变\n",
    "arr_2_d.astype('int32')"
   ]
  },
  {
   "cell_type": "code",
   "execution_count": 48,
   "id": "d0c74cab-40ad-40c7-8664-607c7afeaf82",
   "metadata": {
    "panel-layout": {
     "height": 27.1406,
     "visible": true,
     "width": 100
    }
   },
   "outputs": [
    {
     "data": {
      "text/plain": [
       "dtype('float64')"
      ]
     },
     "execution_count": 48,
     "metadata": {},
     "output_type": "execute_result"
    }
   ],
   "source": [
    "# 原数组的数据类型并没有改变\n",
    "arr_2_d.dtype"
   ]
  },
  {
   "cell_type": "code",
   "execution_count": 42,
   "id": "51815ff0-02d2-46de-87e6-cc4b0db9f2d9",
   "metadata": {
    "panel-layout": {
     "height": 27.1406,
     "visible": true,
     "width": 100
    }
   },
   "outputs": [
    {
     "data": {
      "text/plain": [
       "dtype('int32')"
      ]
     },
     "execution_count": 42,
     "metadata": {},
     "output_type": "execute_result"
    }
   ],
   "source": [
    "arr_2_d_int = arr_2_d.astype('int32')\n",
    "arr_2_d_int.dtype"
   ]
  },
  {
   "cell_type": "code",
   "execution_count": 44,
   "id": "3c3bcefc-02da-4d1c-a74f-5c2f02210b9b",
   "metadata": {
    "panel-layout": {
     "height": 44.2812,
     "visible": true,
     "width": 100
    }
   },
   "outputs": [
    {
     "data": {
      "text/plain": [
       "array([[1., 2.],\n",
       "       [3., 4.]])"
      ]
     },
     "execution_count": 44,
     "metadata": {},
     "output_type": "execute_result"
    }
   ],
   "source": [
    "arr_2_d = np.asarray([[1,2],[3,4]], dtype='float')\n",
    "arr_2_d"
   ]
  },
  {
   "cell_type": "code",
   "execution_count": 56,
   "id": "26b4e9a3-9806-4303-8d32-0850f3d89320",
   "metadata": {
    "panel-layout": {
     "height": 27.1406,
     "visible": true,
     "width": 100
    }
   },
   "outputs": [
    {
     "data": {
      "text/plain": [
       "dtype('int32')"
      ]
     },
     "execution_count": 56,
     "metadata": {},
     "output_type": "execute_result"
    }
   ],
   "source": [
    "arr_2_d.dtype"
   ]
  },
  {
   "cell_type": "code",
   "execution_count": 50,
   "id": "ecf6cee5-1099-4ac3-8611-db4eb910a7bd",
   "metadata": {
    "panel-layout": {
     "height": 27.1406,
     "visible": true,
     "width": 100
    }
   },
   "outputs": [
    {
     "data": {
      "text/plain": [
       "4"
      ]
     },
     "execution_count": 50,
     "metadata": {},
     "output_type": "execute_result"
    }
   ],
   "source": [
    "arr_2_d.size"
   ]
  },
  {
   "cell_type": "markdown",
   "id": "d04e7d5c-7d75-44ea-b936-f3b066deb99c",
   "metadata": {
    "panel-layout": {
     "height": 51.1406,
     "visible": true,
     "width": 100
    }
   },
   "source": [
    "不能通过直接修改数据类型来修改数组的数据类型, 数据会发生改变"
   ]
  },
  {
   "cell_type": "code",
   "execution_count": 54,
   "id": "839aa0ca-a234-4d5a-9b2a-aeb39ea6e81c",
   "metadata": {
    "panel-layout": {
     "height": 44.2812,
     "visible": true,
     "width": 100
    }
   },
   "outputs": [
    {
     "data": {
      "text/plain": [
       "array([[         0, 1072693248,          0, 1073741824],\n",
       "       [         0, 1074266112,          0, 1074790400]], dtype=int32)"
      ]
     },
     "execution_count": 54,
     "metadata": {},
     "output_type": "execute_result"
    }
   ],
   "source": [
    "arr_2_d.dtype='int32'\n",
    "arr_2_d"
   ]
  },
  {
   "cell_type": "markdown",
   "id": "91b33f78-5a3b-4574-8871-7f5cb80403cf",
   "metadata": {
    "panel-layout": {
     "height": 68.2812,
     "visible": true,
     "width": 100
    }
   },
   "source": [
    "## 其他创建方式\n",
    "\n",
    "* np.ones(): 创建一个全 1 的数组, 必须参数是指定数组的形状，可选参数是数组的数据类型\n",
    "* np.zeros():"
   ]
  },
  {
   "cell_type": "code",
   "id": "b3ba92a9-47f4-42a0-8b86-e02808c8f0b3",
   "metadata": {
    "ExecuteTime": {
     "end_time": "2025-10-13T08:14:30.293674Z",
     "start_time": "2025-10-13T08:14:30.275175Z"
    }
   },
   "source": [
    "# 报错原因是没有给定形状的参数\n",
    "# np.ones()"
   ],
   "outputs": [],
   "execution_count": 5
  },
  {
   "cell_type": "code",
   "id": "35939014-b5ab-4acd-bfea-aaba5af33ebe",
   "metadata": {
    "panel-layout": {
     "height": 44.2812,
     "visible": true,
     "width": 100
    },
    "ExecuteTime": {
     "end_time": "2025-10-13T08:14:30.334860Z",
     "start_time": "2025-10-13T08:14:30.318018Z"
    }
   },
   "source": [
    "np.ones(shape=(2,3))"
   ],
   "outputs": [
    {
     "data": {
      "text/plain": [
       "array([[1., 1., 1.],\n",
       "       [1., 1., 1.]])"
      ]
     },
     "execution_count": 6,
     "metadata": {},
     "output_type": "execute_result"
    }
   ],
   "execution_count": 6
  },
  {
   "cell_type": "code",
   "id": "f7dcadbe-0899-4691-8fa1-3e2d1074b298",
   "metadata": {
    "panel-layout": {
     "height": 44.2812,
     "visible": true,
     "width": 100
    },
    "ExecuteTime": {
     "end_time": "2025-10-13T08:14:30.353349Z",
     "start_time": "2025-10-13T08:14:30.346953Z"
    }
   },
   "source": [
    "np.ones(shape=(2,3), dtype='int32')"
   ],
   "outputs": [
    {
     "data": {
      "text/plain": [
       "array([[1, 1, 1],\n",
       "       [1, 1, 1]], dtype=int32)"
      ]
     },
     "execution_count": 7,
     "metadata": {},
     "output_type": "execute_result"
    }
   ],
   "execution_count": 7
  },
  {
   "cell_type": "code",
   "id": "8c9fdc12-3cce-4398-bd3d-fb6c385b5679",
   "metadata": {
    "panel-layout": {
     "height": 44.28125,
     "visible": true,
     "width": 100
    },
    "ExecuteTime": {
     "end_time": "2025-10-13T08:14:30.393936Z",
     "start_time": "2025-10-13T08:14:30.389589Z"
    }
   },
   "source": [
    "# 初始化权重\n",
    "np.ones((2,3)) * 0.5"
   ],
   "outputs": [
    {
     "data": {
      "text/plain": [
       "array([[0.5, 0.5, 0.5],\n",
       "       [0.5, 0.5, 0.5]])"
      ]
     },
     "execution_count": 8,
     "metadata": {},
     "output_type": "execute_result"
    }
   ],
   "execution_count": 8
  },
  {
   "metadata": {},
   "cell_type": "markdown",
   "source": "我们也可以用 np.arange([start, ]stop, [step, ]dtype=None) 创建一个在[start, stop) 区间的数组，元素之间的跨度是 step。",
   "id": "b7261ed35671d164"
  },
  {
   "cell_type": "markdown",
   "id": "5199428c-22bf-4941-bddd-b0af7b089cfe",
   "metadata": {},
   "source": "np.linspace(start, stop, num=50, endpoint=True, retstep=False, dtype=None) 创建一个数组，具体就是创建一个从开始数值到结束数值的等差数列。"
  },
  {
   "cell_type": "code",
   "id": "23f252c4-0618-458f-af5b-6a309e879cad",
   "metadata": {
    "ExecuteTime": {
     "end_time": "2025-10-13T08:14:30.411617Z",
     "start_time": "2025-10-13T08:14:30.407472Z"
    }
   },
   "source": [
    "# 从2到10，有3个元素的等差数列\n",
    "np.linspace(start=2, stop=10, num=3)"
   ],
   "outputs": [
    {
     "data": {
      "text/plain": [
       "array([ 2.,  6., 10.])"
      ]
     },
     "execution_count": 9,
     "metadata": {},
     "output_type": "execute_result"
    }
   ],
   "execution_count": 9
  },
  {
   "metadata": {},
   "cell_type": "markdown",
   "source": "np.arange 与 np.linspace 也是比较常见的函数，比如要作图的时候，可以用它们生成 x 轴的坐标。例如，我要生成一个 $y=x^2$ 的图片，x 轴可以用 np.linespace() 来生成。",
   "id": "e845c581c51af46d"
  },
  {
   "cell_type": "code",
   "id": "135848f2-251b-41a7-9d02-3fe0c66658f3",
   "metadata": {
    "ExecuteTime": {
     "end_time": "2025-10-13T08:24:05.464899Z",
     "start_time": "2025-10-13T08:24:05.415484Z"
    }
   },
   "source": [
    "import numpy as np\n",
    "import matplotlib.pyplot as plt\n",
    "\n",
    "X = np.arange(-50, 51, 2)\n",
    "Y = X ** 2\n",
    "\n",
    "plt.plot(X, Y, 'b-', linewidth=2, label='parabola')\n",
    "plt.plot(X, Y, color='blue')\n",
    "plt.legend()\n",
    "plt.show()"
   ],
   "outputs": [
    {
     "data": {
      "text/plain": [
       "<Figure size 640x480 with 1 Axes>"
      ],
      "image/png": "[encoded data removed]"
     },
     "metadata": {},
     "output_type": "display_data"
    }
   ],
   "execution_count": 22
  },
  {
   "cell_type": "code",
   "id": "d6e3ac09-14c0-4451-9fb3-34f4e5226f6d",
   "metadata": {
    "ExecuteTime": {
     "end_time": "2025-10-13T08:14:30.772420Z",
     "start_time": "2025-10-13T08:14:30.739194Z"
    }
   },
   "source": [
    "interest_score = np.random.randint(10, size=(4, 3))\n",
    "interest_score"
   ],
   "outputs": [
    {
     "data": {
      "text/plain": [
       "array([[5, 1, 5],\n",
       "       [0, 2, 1],\n",
       "       [0, 3, 8],\n",
       "       [1, 7, 8]])"
      ]
     },
     "execution_count": 11,
     "metadata": {},
     "output_type": "execute_result"
    }
   ],
   "execution_count": 11
  },
  {
   "cell_type": "code",
   "id": "11b70411-2495-44dd-bfee-49af666698a3",
   "metadata": {
    "ExecuteTime": {
     "end_time": "2025-10-13T08:14:30.785237Z",
     "start_time": "2025-10-13T08:14:30.783304Z"
    }
   },
   "source": [
    "np.sum(interest_score, axis=0)"
   ],
   "outputs": [
    {
     "data": {
      "text/plain": [
       "array([ 6, 13, 22])"
      ]
     },
     "execution_count": 12,
     "metadata": {},
     "output_type": "execute_result"
    }
   ],
   "execution_count": 12
  },
  {
   "cell_type": "code",
   "id": "6debf1eb-28ce-4723-98e4-691180eca890",
   "metadata": {
    "ExecuteTime": {
     "end_time": "2025-10-13T08:14:30.799386Z",
     "start_time": "2025-10-13T08:14:30.796676Z"
    }
   },
   "source": [
    "np.sum(interest_score, axis=1)"
   ],
   "outputs": [
    {
     "data": {
      "text/plain": [
       "array([11,  3, 11, 16])"
      ]
     },
     "execution_count": 13,
     "metadata": {},
     "output_type": "execute_result"
    }
   ],
   "execution_count": 13
  },
  {
   "cell_type": "code",
   "id": "fe56cdd6-228c-4c88-ad47-bb4596826ccd",
   "metadata": {
    "ExecuteTime": {
     "end_time": "2025-10-13T08:14:30.813174Z",
     "start_time": "2025-10-13T08:14:30.811324Z"
    }
   },
   "source": [
    "a = np.arange(18).reshape(3,2,3)\n",
    "a"
   ],
   "outputs": [
    {
     "data": {
      "text/plain": [
       "array([[[ 0,  1,  2],\n",
       "        [ 3,  4,  5]],\n",
       "\n",
       "       [[ 6,  7,  8],\n",
       "        [ 9, 10, 11]],\n",
       "\n",
       "       [[12, 13, 14],\n",
       "        [15, 16, 17]]])"
      ]
     },
     "execution_count": 14,
     "metadata": {},
     "output_type": "execute_result"
    }
   ],
   "execution_count": 14
  },
  {
   "cell_type": "code",
   "id": "4e3f1772-2a3a-4347-85cb-2e9751433016",
   "metadata": {
    "ExecuteTime": {
     "end_time": "2025-10-13T08:14:30.826852Z",
     "start_time": "2025-10-13T08:14:30.825063Z"
    }
   },
   "source": [
    "a.max(axis=0)"
   ],
   "outputs": [
    {
     "data": {
      "text/plain": [
       "array([[12, 13, 14],\n",
       "       [15, 16, 17]])"
      ]
     },
     "execution_count": 15,
     "metadata": {},
     "output_type": "execute_result"
    }
   ],
   "execution_count": 15
  },
  {
   "cell_type": "code",
   "id": "a939b5a3-f192-46ba-9993-705aac9a3648",
   "metadata": {
    "ExecuteTime": {
     "end_time": "2025-10-13T08:14:30.842930Z",
     "start_time": "2025-10-13T08:14:30.840690Z"
    }
   },
   "source": [
    "a.max(axis=1)"
   ],
   "outputs": [
    {
     "data": {
      "text/plain": [
       "array([[ 3,  4,  5],\n",
       "       [ 9, 10, 11],\n",
       "       [15, 16, 17]])"
      ]
     },
     "execution_count": 16,
     "metadata": {},
     "output_type": "execute_result"
    }
   ],
   "execution_count": 16
  },
  {
   "cell_type": "code",
   "id": "6252f2ee-d72c-484b-a765-384af0770f3f",
   "metadata": {
    "ExecuteTime": {
     "end_time": "2025-10-13T08:14:30.863282Z",
     "start_time": "2025-10-13T08:14:30.860729Z"
    }
   },
   "source": [
    "a.max(axis=2)"
   ],
   "outputs": [
    {
     "data": {
      "text/plain": [
       "array([[ 2,  5],\n",
       "       [ 8, 11],\n",
       "       [14, 17]])"
      ]
     },
     "execution_count": 17,
     "metadata": {},
     "output_type": "execute_result"
    }
   ],
   "execution_count": 17
  },
  {
   "metadata": {
    "ExecuteTime": {
     "end_time": "2025-10-13T08:14:30.870088Z",
     "start_time": "2025-10-13T08:14:30.868782Z"
    }
   },
   "cell_type": "code",
   "source": "",
   "id": "d392ccbe274f6763",
   "outputs": [],
   "execution_count": null
  },
  {
   "cell_type": "markdown",
   "id": "2955ada4-d11c-4ffa-ab30-f05a7faa0721",
   "metadata": {},
   "source": [
    "# 图片加载\n",
    "## Pillow 方式"
   ]
  },
  {
   "cell_type": "code",
   "id": "9f534671-c440-4370-965c-4fd09e0091ff",
   "metadata": {
    "ExecuteTime": {
     "end_time": "2025-10-13T15:10:10.927696Z",
     "start_time": "2025-10-13T15:10:10.919913Z"
    }
   },
   "source": [
    "from PIL import Image\n",
    "im = Image.open('../images/logo.png')\n",
    "im.size"
   ],
   "outputs": [
    {
     "data": {
      "text/plain": [
       "(318, 116)"
      ]
     },
     "execution_count": 10,
     "metadata": {},
     "output_type": "execute_result"
    }
   ],
   "execution_count": 10
  },
  {
   "cell_type": "markdown",
   "id": "2d2114e2-62b4-40bf-85f3-e6a0fc9a4abd",
   "metadata": {},
   "source": [
    "Pillow 是以二进制形式读入保存的，那怎么转为 NumPy 格式呢？需要利用 NumPy 的 asarray 方法，可以将 Pillow 的数据转换为 NumPy 的数组格式。"
   ]
  },
  {
   "cell_type": "code",
   "id": "5ae76bac-79ba-4d7c-95f8-6fece822ca73",
   "metadata": {
    "ExecuteTime": {
     "end_time": "2025-10-13T15:10:11.920127Z",
     "start_time": "2025-10-13T15:10:11.916282Z"
    }
   },
   "source": [
    "import numpy as np\n",
    "im_pillow = np.asarray(im)\n",
    "im_pillow.shape"
   ],
   "outputs": [
    {
     "data": {
      "text/plain": [
       "(116, 318, 3)"
      ]
     },
     "execution_count": 11,
     "metadata": {},
     "output_type": "execute_result"
    }
   ],
   "execution_count": 11
  },
  {
   "cell_type": "markdown",
   "id": "d2616b2f-85c9-4c0e-b8a8-83f4a3395fda",
   "metadata": {},
   "source": [
    "数组的最后一个维度是 3，这是因为图片的格式是 RGB 格式，表示有 R、G、B 三个通道。\n",
    "Pillow 读入后通道的顺序就是 R、G、B"
   ]
  },
  {
   "cell_type": "markdown",
   "id": "a6c75999-a41a-4039-a652-7d5a973a2452",
   "metadata": {},
   "source": [
    "## OpenCV 方式"
   ]
  },
  {
   "cell_type": "markdown",
   "id": "8647a52a-e0da-4bd0-a6f6-cbe71aac2be0",
   "metadata": {},
   "source": [
    "OpenCV 读入后顺序是 B、G、R。\n",
    "模型训练时的通道顺序需与预测的通道顺序要保持一致。"
   ]
  },
  {
   "metadata": {
    "ExecuteTime": {
     "end_time": "2025-10-13T15:10:14.481588Z",
     "start_time": "2025-10-13T15:10:14.011573Z"
    }
   },
   "cell_type": "code",
   "source": [
    "import cv2\n",
    "im_cv2 = cv2.imread('../images/logo.png')\n",
    "type(im_cv2)\n",
    "im_cv2.shape"
   ],
   "id": "34caa63c-8ed1-4713-9a28-34d744468254",
   "outputs": [
    {
     "data": {
      "text/plain": [
       "(116, 318, 3)"
      ]
     },
     "execution_count": 12,
     "metadata": {},
     "output_type": "execute_result"
    }
   ],
   "execution_count": 12
  },
  {
   "cell_type": "markdown",
   "id": "4592e361-8582-469d-9556-fd60b8b432d4",
   "metadata": {},
   "source": [
    "## 验证 Pillow 读入数据通道的顺序\n",
    "方法：将 R、G、B 三个通道的数据单独提取出来，然后令另外两个通道的数据全为 0\n",
    "注：RGB 三个通道各有 256 个亮度，分别用数字 0 到 255 表示，数字越高代表亮度越强"
   ]
  },
  {
   "cell_type": "markdown",
   "id": "87c2101f-b12c-4e91-bacb-91db04572b26",
   "metadata": {},
   "source": [
    "### Numpy 数组索引与切片\n",
    "NumPy 数组的索引方式与 Python 的列表的索引方式相同，“：” 代表全部选中，图片读入后，会以下图的状态保存在数组中。\n",
    "\n",
    "<img src=\"../images/slice_up.png\" width=\"20%\" />"
   ],
   "attachments": {
    "48635447-517f-4473-a759-134c8dd54508.png": {
     "image/png": "[encoded data removed]"
    }
   }
  },
  {
   "cell_type": "code",
   "id": "3528bc28-b965-4dc3-9a4c-4dff9c3a75be",
   "metadata": {
    "ExecuteTime": {
     "end_time": "2025-10-13T15:10:17.206820Z",
     "start_time": "2025-10-13T15:10:17.200101Z"
    }
   },
   "source": [
    "# 取第三个维度索引为 0 的全部数据，即取 R 通道数据\n",
    "print(im_pillow.shape)\n",
    "im_pillow_c1 = im_pillow[:, :, 0]\n",
    "print(im_pillow_c1.shape)\n",
    "# 取第三个维度索引为 1 的全部数据，即取 G 通道数据\n",
    "im_pillow_c2 = im_pillow[:, :, 1]\n",
    "print(im_pillow_c2.shape)\n",
    "# 取第三个维度索引为 2 的全部数据，即取 B 通道数据\n",
    "im_pillow_c3 = im_pillow[:, :, 2]\n",
    "print(im_pillow_c3.shape)"
   ],
   "outputs": [
    {
     "name": "stdout",
     "output_type": "stream",
     "text": [
      "(116, 318, 3)\n",
      "(116, 318)\n",
      "(116, 318)\n",
      "(116, 318)\n"
     ]
    }
   ],
   "execution_count": 13
  },
  {
   "cell_type": "code",
   "id": "d588a3a9-b73c-40b7-9309-bd784483e6b3",
   "metadata": {
    "ExecuteTime": {
     "end_time": "2025-10-13T15:10:19.432187Z",
     "start_time": "2025-10-13T15:10:19.429053Z"
    }
   },
   "source": [
    "# 生成一个全 0 数组，该数组与 im_pillow 具有相同的宽高，单通道；\n",
    "zeros = np.zeros((im_pillow.shape[0], im_pillow.shape[1], 1))\n",
    "zeros.shape"
   ],
   "outputs": [
    {
     "data": {
      "text/plain": [
       "(116, 318, 1)"
      ]
     },
     "execution_count": 14,
     "metadata": {},
     "output_type": "execute_result"
    }
   ],
   "execution_count": 14
  },
  {
   "cell_type": "markdown",
   "id": "5df84ec4-bbbc-499d-bd19-3f65e7803663",
   "metadata": {},
   "source": [
    "### 数组的拼接\n",
    "将全 0 的数组与单独通道的数组 im_pillow_c1、im_pillow_c2、im_pillow_c3 进行拼接，就可以获得对应通道的图像数据了。\n",
    "\n",
    "把一个分离出来的数据跟一个全 0 数组拼接起来。\n",
    "\n",
    "NumPy 数组为我们提供了 np.concatenate((a1, a2, …), axis=0) 方法进行数组拼接。其中，a1，a2, …就是我们要合并的数组；axis 是我们要沿着哪一个维度进行合并，默认是沿着 0 轴方向。对于我们的问题，是要沿着 2 轴的方向进行合并，也是我们最终的目标是要获得下面的三幅图像。\n",
    "\n",
    "<img src=\"../images/joint.png\" width=\"50%\" />\n",
    "\n",
    "先将 im_pillow_c1 与全 0 数组进行合并，生成上图中最左侧的数组"
   ]
  },
  {
   "cell_type": "code",
   "id": "cfd2afd8-53f1-4d37-a83c-217a956289cc",
   "metadata": {
    "ExecuteTime": {
     "end_time": "2025-10-13T15:10:22.705282Z",
     "start_time": "2025-10-13T15:10:22.681379Z"
    }
   },
   "source": "im_pillow_c1_3ch = np.concatenate((im_pillow_c1, zeros, zeros), axis=2)",
   "outputs": [
    {
     "ename": "AxisError",
     "evalue": "axis 2 is out of bounds for array of dimension 2",
     "output_type": "error",
     "traceback": [
      "\u001B[31m---------------------------------------------------------------------------\u001B[39m",
      "\u001B[31mAxisError\u001B[39m                                 Traceback (most recent call last)",
      "\u001B[36mCell\u001B[39m\u001B[36m \u001B[39m\u001B[32mIn[15]\u001B[39m\u001B[32m, line 1\u001B[39m\n\u001B[32m----> \u001B[39m\u001B[32m1\u001B[39m im_pillow_c1_3ch = \u001B[43mnp\u001B[49m\u001B[43m.\u001B[49m\u001B[43mconcatenate\u001B[49m\u001B[43m(\u001B[49m\u001B[43m(\u001B[49m\u001B[43mim_pillow_c1\u001B[49m\u001B[43m,\u001B[49m\u001B[43m \u001B[49m\u001B[43mzeros\u001B[49m\u001B[43m,\u001B[49m\u001B[43m \u001B[49m\u001B[43mzeros\u001B[49m\u001B[43m)\u001B[49m\u001B[43m,\u001B[49m\u001B[43m \u001B[49m\u001B[43maxis\u001B[49m\u001B[43m=\u001B[49m\u001B[32;43m2\u001B[39;49m\u001B[43m)\u001B[49m\n",
      "\u001B[31mAxisError\u001B[39m: axis 2 is out of bounds for array of dimension 2"
     ]
    }
   ],
   "execution_count": 15
  },
  {
   "metadata": {},
   "cell_type": "markdown",
   "source": "错误的原因是在 2 维数组中，axis 如果等于 2 的话会越界。im_pillow_c1 与 zeros 的形状不同，需要将im_pillow_c1 由（116, 318）变成 (116, 318, 1) 。",
   "id": "e669999046765e35"
  },
  {
   "metadata": {
    "ExecuteTime": {
     "end_time": "2025-10-13T15:10:24.727763Z",
     "start_time": "2025-10-13T15:10:24.718158Z"
    }
   },
   "cell_type": "code",
   "source": [
    "print(im_pillow_c1.shape)\n",
    "print(zeros.shape)"
   ],
   "id": "e40a75c099829f1d",
   "outputs": [
    {
     "name": "stdout",
     "output_type": "stream",
     "text": [
      "(116, 318)\n",
      "(116, 318, 1)\n"
     ]
    }
   ],
   "execution_count": 16
  },
  {
   "cell_type": "markdown",
   "id": "6e5ebc48-ae12-4c47-a61c-df78aaf63e61",
   "metadata": {},
   "source": [
    "### 数组升维\n",
    "方法一：np.newaxis 是 NumPy 的一个常量，其值为 None。在数组索引中使用np.newaxis 会在该位置增加一个新的维度，长度为1。"
   ]
  },
  {
   "cell_type": "code",
   "id": "114db3b0-529c-47ab-8250-da994de0c21b",
   "metadata": {
    "ExecuteTime": {
     "end_time": "2025-10-13T15:10:31.970654Z",
     "start_time": "2025-10-13T15:10:31.960688Z"
    }
   },
   "source": [
    "im_pillow_c1 = im_pillow_c1[:, :, np.newaxis]\n",
    "im_pillow_c1.shape"
   ],
   "outputs": [
    {
     "data": {
      "text/plain": [
       "(116, 318, 1)"
      ]
     },
     "execution_count": 17,
     "metadata": {},
     "output_type": "execute_result"
    }
   ],
   "execution_count": 17
  },
  {
   "metadata": {},
   "cell_type": "markdown",
   "source": "将 im_pillow_c1 与 zeros 合并",
   "id": "a51f2b43341e3d68"
  },
  {
   "metadata": {
    "ExecuteTime": {
     "end_time": "2025-10-13T15:10:34.240670Z",
     "start_time": "2025-10-13T15:10:34.237345Z"
    }
   },
   "cell_type": "code",
   "source": [
    "im_pillow_c1_3ch = np.concatenate((im_pillow_c1, zeros, zeros), axis=2)\n",
    "im_pillow_c1_3ch.shape"
   ],
   "id": "3ed8ec35abc79322",
   "outputs": [
    {
     "data": {
      "text/plain": [
       "(116, 318, 3)"
      ]
     },
     "execution_count": 18,
     "metadata": {},
     "output_type": "execute_result"
    }
   ],
   "execution_count": 18
  },
  {
   "cell_type": "markdown",
   "id": "b0733913-a8f7-4c69-953e-95a5d085aa45",
   "metadata": {},
   "source": "方法二：直接赋值，生成一个与 im_pillow 形状完全一样的全 0 数组，然后将每个通道的数值赋值为 im_pillow_c1、im_pillow_c2 与 im_pillow_c3"
  },
  {
   "cell_type": "code",
   "id": "07669687-de7f-4507-b9cf-390b7f803355",
   "metadata": {
    "ExecuteTime": {
     "end_time": "2025-10-12T08:58:50.693879Z",
     "start_time": "2025-10-12T08:58:50.691294Z"
    }
   },
   "source": [
    "im_pillow_c2_3ch = np.zeros(im_pillow.shape)\n",
    "im_pillow_c2_3ch[:,:,1] = im_pillow_c2\n",
    "im_pillow_c3_3ch = np.zeros(im_pillow.shape)\n",
    "im_pillow_c3_3ch[:,:,2] = im_pillow_c3"
   ],
   "outputs": [],
   "execution_count": 20
  },
  {
   "metadata": {},
   "cell_type": "markdown",
   "source": [
    "使用 matplotlib 进行绘图，它是 NumPy 的绘图库\n",
    "\n",
    "https://matplotlib.org/stable/gallery/index.html\n",
    "\n"
   ],
   "id": "fe71e3151502369c"
  },
  {
   "cell_type": "code",
   "id": "a57ae1d9-3235-48a7-89d3-2b441a458352",
   "metadata": {
    "ExecuteTime": {
     "end_time": "2025-10-12T09:46:15.222106Z",
     "start_time": "2025-10-12T09:46:15.122061Z"
    }
   },
   "source": [
    "from matplotlib import pyplot as plt\n",
    "# 创建一个 2 行 2 列的子图网格（总共 4 个子图位置），并激活第一个子图（索引为 1，按从左到右、从上到下的顺序编号）用于后续绘图。\n",
    "plt.subplot(2, 2, 1)\n",
    "plt.title('Origin Image')\n",
    "plt.imshow(im_pillow)\n",
    "plt.axis('off') # 关闭坐标轴显示\n",
    "plt.subplot(2, 2, 2)\n",
    "plt.title('Red Channel')\n",
    "plt.imshow(im_pillow_c1_3ch.astype(np.uint8))\n",
    "plt.axis('off')\n",
    "plt.subplot(2, 2, 3)\n",
    "plt.title('Green Channel')\n",
    "plt.imshow(im_pillow_c2_3ch.astype(np.uint8))\n",
    "plt.axis('off')\n",
    "plt.subplot(2, 2, 4)\n",
    "plt.title('Blue Channel')\n",
    "plt.imshow(im_pillow_c3_3ch.astype(np.uint8))\n",
    "#plt.axis('off')\n",
    "plt.savefig('../images/rgb_pillow.png', dpi=150)"
   ],
   "outputs": [
    {
     "data": {
      "text/plain": [
       "<Figure size 640x480 with 4 Axes>"
      ],
      "image/png": "[encoded data removed]"
     },
     "metadata": {},
     "output_type": "display_data"
    }
   ],
   "execution_count": 54
  },
  {
   "metadata": {},
   "cell_type": "markdown",
   "source": [
    "## 深拷贝（副本）与浅拷贝（视图）\n",
    "还有一种更加简单的方式获得三个通道的 BGR 数据，只需要将图片读入后，直接将其中的两个通道赋值为 0 即可。但要 注意不可以使用浅拷贝。下面是一个潜拷贝实例，该拷贝方式会改变原数据。"
   ],
   "id": "936863cd6748cad4"
  },
  {
   "metadata": {
    "ExecuteTime": {
     "end_time": "2025-09-20T13:10:44.337470Z",
     "start_time": "2025-09-20T13:10:44.321529Z"
    }
   },
   "cell_type": "code",
   "source": [
    "a = np.arange(6)\n",
    "print(a.shape)\n",
    "#输出：(6,)\n",
    "print(a)\n",
    "#输出：[0 1 2 3 4 5]\n",
    "b = a.view()\n",
    "print(b.shape)\n",
    "#输出：(6,)\n",
    "b.shape = 2, 3\n",
    "print(b)\n",
    "#输出：[[0 1 2]\n",
    "# [3 4 5]]\n",
    "#b[0,0] = 111\n",
    "print(a)\n",
    "#输出：[111   1   2   3   4   5]\n",
    "print(b)\n",
    "#输出：[[111   1   2]\n",
    "# [  3   4   5]]"
   ],
   "id": "a606f49cdc997e74",
   "outputs": [
    {
     "name": "stdout",
     "output_type": "stream",
     "text": [
      "(6,)\n",
      "[0 1 2 3 4 5]\n",
      "(6,)\n",
      "[[0 1 2]\n",
      " [3 4 5]]\n",
      "[0 1 2 3 4 5]\n",
      "[[0 1 2]\n",
      " [3 4 5]]\n"
     ]
    }
   ],
   "execution_count": 29
  },
  {
   "metadata": {},
   "cell_type": "markdown",
   "source": "所以要避免浅拷贝，需要在将读取原图片后，使用深拷贝。",
   "id": "87f9342872c715c6"
  },
  {
   "metadata": {
    "ExecuteTime": {
     "end_time": "2025-10-13T08:02:59.135350Z",
     "start_time": "2025-10-13T08:02:58.970888Z"
    }
   },
   "cell_type": "code",
   "source": [
    "from PIL import Image\n",
    "import numpy as np\n",
    "\n",
    "im = Image.open('../images/logo.png')\n",
    "im_pillow = np.array(im) # 需要深拷贝，因为赋值操作会报错，也会改变原数据\n",
    "im_pillow[:,:,1:]=0\n"
   ],
   "id": "a68f503288988fda",
   "outputs": [],
   "execution_count": 3
  },
  {
   "metadata": {},
   "cell_type": "markdown",
   "source": "# 模型评估\n",
   "id": "487b5f1f29f96cc0"
  },
  {
   "metadata": {},
   "cell_type": "markdown",
   "source": [
    "## Argmax Vs Argmin：求最大 / 最小值对应的索引\n",
    "NumPy 的 argmax(a, axis=None) 方法可以为我们解决求最大值索引的问题。如果不指定 axis，则将数组默认为 1 维。"
   ],
   "id": "bdd6d1ddef33991c"
  },
  {
   "metadata": {
    "ExecuteTime": {
     "end_time": "2025-10-13T08:03:01.760824Z",
     "start_time": "2025-10-13T08:03:01.750070Z"
    }
   },
   "cell_type": "code",
   "source": [
    "probs = np.array([0.075, 0.15, 0.075, 0.15, 0.0, 0.05, 0.05, 0.2, 0.25])\n",
    "max_index = np.argmax(probs)\n",
    "print(f\"index of max number: {max_index}\")\n",
    "min_index = np.argmin(probs)\n",
    "print(f\"index of min numer: {min_index}\")"
   ],
   "id": "9d7155e4001c35e5",
   "outputs": [
    {
     "name": "stdout",
     "output_type": "stream",
     "text": [
      "index of max number: 8\n",
      "index of min numer: 4\n"
     ]
    }
   ],
   "execution_count": 4
  },
  {
   "metadata": {},
   "cell_type": "markdown",
   "source": [
    "## Argsort：数组排序后返回原数组的索引\n",
    "argsort(a, axis=-1, kind=None)\n",
    "- a 是要进行排序的原数组；\n",
    "- axis 是要沿着哪一个轴进行排序，默认是 -1，也就是最后一个轴；\n",
    "- kind 是采用什么算法进行排序，默认是快速排序，还有其他排序算法，具体你可以看看数据结构的排序算法。"
   ],
   "id": "f7642321517ed374"
  },
  {
   "metadata": {
    "ExecuteTime": {
     "end_time": "2025-09-21T06:08:38.171081Z",
     "start_time": "2025-09-21T06:08:38.165523Z"
    }
   },
   "cell_type": "code",
   "source": [
    "probs = np.array([0.075, 0.15, 0.075, 0.15, 0.0, 0.05, 0.05, 0.2, 0.25])\n",
    "probs"
   ],
   "id": "a520d9c0438d400b",
   "outputs": [
    {
     "data": {
      "text/plain": [
       "array([0.075, 0.15 , 0.075, 0.15 , 0.   , 0.05 , 0.05 , 0.2  , 0.25 ])"
      ]
     },
     "execution_count": 38,
     "metadata": {},
     "output_type": "execute_result"
    }
   ],
   "execution_count": 38
  },
  {
   "metadata": {
    "ExecuteTime": {
     "end_time": "2025-09-21T06:08:43.519319Z",
     "start_time": "2025-09-21T06:08:43.508344Z"
    }
   },
   "cell_type": "code",
   "source": [
    "probs_idx_sort = np.argsort(-probs)  # 注意，加了负号，是按降序排序\n",
    "probs_idx_sort"
   ],
   "id": "7ddf8940dcd52177",
   "outputs": [
    {
     "data": {
      "text/plain": [
       "array([8, 7, 1, 3, 0, 2, 5, 6, 4])"
      ]
     },
     "execution_count": 39,
     "metadata": {},
     "output_type": "execute_result"
    }
   ],
   "execution_count": 39
  },
  {
   "metadata": {
    "ExecuteTime": {
     "end_time": "2025-09-21T06:06:50.602641Z",
     "start_time": "2025-09-21T06:06:50.590972Z"
    }
   },
   "cell_type": "code",
   "source": [
    "#概率最大的前三个值的坐标\n",
    "probs_idx_sort[:3]"
   ],
   "id": "c4b9c733808f12a6",
   "outputs": [
    {
     "data": {
      "text/plain": [
       "array([8, 7, 1])"
      ]
     },
     "execution_count": 32,
     "metadata": {},
     "output_type": "execute_result"
    }
   ],
   "execution_count": 32
  }
 ],
 "metadata": {
  "kernelspec": {
   "display_name": "py310(learnacp)",
   "language": "python",
   "name": "learnacp"
  },
  "language_info": {
   "codemirror_mode": {
    "name": "ipython",
    "version": 3
   },
   "file_extension": ".py",
   "mimetype": "text/x-python",
   "name": "python",
   "nbconvert_exporter": "python",
   "pygments_lexer": "ipython3",
   "version": "3.12.7"
  },
  "panel-cell-order": [
   "958d263e-4f85-4e99-b0fc-daba63046c06",
   "fbf15bfa-2915-4913-b14b-ab548b50b0cb",
   "97af77a9-7cdc-44e1-9b31-d12b55cda30e",
   "96955220-7c4f-4148-a537-467e0e92840e",
   "91796281-7dca-4dea-a9a1-f9b1f8e9680f",
   "9d510a22-5351-4cbb-80b6-eb6255971c6c",
   "e5a2136e-30a8-420d-b09c-109c258b79dc",
   "c41e1dda-c61e-4305-a316-32970e34bcd9",
   "ceb557f2-9b45-4493-9360-6f30912966df",
   "87e3796a-c987-4afa-b00a-75c948a800d9",
   "3b290af8-72c5-4a6f-a13d-6cced0661899",
   "95848e09-6508-459d-8810-94bb87eb0d52",
   "449cba12-9967-49e1-8d71-d16b6d3a0699",
   "4cd60891-a718-4163-8d73-dd32c82356af",
   "02255b1b-44ca-4276-8cbb-068e823a98aa",
   "87ddce87-ce4c-449c-bd2c-a7285f167176",
   "e8046e3d-08d5-4e76-a7a4-8a51870404ff",
   "52b147ac-6a2b-4949-8875-5ef8279e2d75",
   "d0c74cab-40ad-40c7-8664-607c7afeaf82",
   "51815ff0-02d2-46de-87e6-cc4b0db9f2d9",
   "3c3bcefc-02da-4d1c-a74f-5c2f02210b9b",
   "26b4e9a3-9806-4303-8d32-0850f3d89320",
   "ecf6cee5-1099-4ac3-8611-db4eb910a7bd",
   "d04e7d5c-7d75-44ea-b936-f3b066deb99c",
   "839aa0ca-a234-4d5a-9b2a-aeb39ea6e81c",
   "91b33f78-5a3b-4574-8871-7f5cb80403cf",
   "35939014-b5ab-4acd-bfea-aaba5af33ebe",
   "f7dcadbe-0899-4691-8fa1-3e2d1074b298",
   "8c9fdc12-3cce-4398-bd3d-fb6c385b5679"
  ]
 },
 "nbformat": 4,
 "nbformat_minor": 5
}
