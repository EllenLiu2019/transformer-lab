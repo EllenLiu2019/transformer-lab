{
 "cells": [
  {
   "cell_type": "markdown",
   "id": "eb296199",
   "metadata": {
    "origin_pos": 0
   },
   "source": [
    "# 数据预处理\n",
    ":label:`sec_pandas`\n",
    "\n",
    "为了能用深度学习来解决现实世界的问题，我们经常从预处理原始数据开始，\n",
    "而不是从那些准备好的张量格式数据开始。\n",
    "在Python中常用的数据分析工具中，我们通常使用`pandas`软件包。\n",
    "像庞大的Python生态系统中的许多其他扩展包一样，`pandas`可以与张量兼容。\n",
    "本节我们将简要介绍使用`pandas`预处理原始数据，并将原始数据转换为张量格式的步骤。\n",
    "后面的章节将介绍更多的数据预处理技术。\n",
    "\n",
    "## 读取数据集\n",
    "\n",
    "举一个例子，我们首先(**创建一个人工数据集，并存储在CSV（逗号分隔值）文件**)\n",
    "`../data/house_tiny.csv`中。\n",
    "以其他格式存储的数据也可以通过类似的方式进行处理。\n",
    "下面我们将数据集按行写入CSV文件中。\n"
   ]
  },
  {
   "cell_type": "code",
   "id": "cd541637",
   "metadata": {
    "execution": {
     "iopub.execute_input": "2023-08-18T07:34:12.001755Z",
     "iopub.status.busy": "2023-08-18T07:34:12.001192Z",
     "iopub.status.idle": "2023-08-18T07:34:12.010498Z",
     "shell.execute_reply": "2023-08-18T07:34:12.009729Z"
    },
    "origin_pos": 1,
    "tab": [
     "tensorflow"
    ],
    "ExecuteTime": {
     "end_time": "2025-10-12T09:57:52.196085Z",
     "start_time": "2025-10-12T09:57:52.185727Z"
    }
   },
   "source": [
    "import os\n",
    "\n",
    "os.makedirs(os.path.join('..', 'data'), exist_ok=True)\n",
    "data_file = os.path.join('..', 'data', 'house_tiny.csv')\n",
    "with open(data_file, 'w') as f:\n",
    "    f.write('NumRooms,Alley,Price\\n')  # 列名\n",
    "    f.write('NA,Pave,127500\\n')  # 每行表示一个数据样本\n",
    "    f.write('2,NA,106000\\n')\n",
    "    f.write('4,NA,178100\\n')\n",
    "    f.write('NA,NA,140000\\n')"
   ],
   "outputs": [],
   "execution_count": 3
  },
  {
   "cell_type": "markdown",
   "id": "2fc1bed7",
   "metadata": {
    "origin_pos": 2
   },
   "source": [
    "要[**从创建的CSV文件中加载原始数据集**]，我们导入`pandas`包并调用`read_csv`函数。该数据集有四行三列。其中每行描述了房间数量（“NumRooms”）、巷子类型（“Alley”）和房屋价格（“Price”）。\n"
   ]
  },
  {
   "cell_type": "code",
   "id": "a82bba0f",
   "metadata": {
    "execution": {
     "iopub.execute_input": "2023-08-18T07:34:12.014192Z",
     "iopub.status.busy": "2023-08-18T07:34:12.013675Z",
     "iopub.status.idle": "2023-08-18T07:34:12.417092Z",
     "shell.execute_reply": "2023-08-18T07:34:12.416225Z"
    },
    "origin_pos": 3,
    "tab": [
     "tensorflow"
    ],
    "ExecuteTime": {
     "end_time": "2025-10-06T11:12:40.462007Z",
     "start_time": "2025-10-06T11:12:40.413300Z"
    }
   },
   "source": [
    "import pandas as pd\n",
    "\n",
    "data = pd.read_csv(data_file)\n",
    "print(data)\n",
    "print(type(data))"
   ],
   "outputs": [
    {
     "name": "stdout",
     "output_type": "stream",
     "text": [
      "   NumRooms Alley   Price\n",
      "0       NaN  Pave  127500\n",
      "1       2.0   NaN  106000\n",
      "2       4.0   NaN  178100\n",
      "3       NaN   NaN  140000\n",
      "<class 'pandas.core.frame.DataFrame'>\n"
     ]
    }
   ],
   "execution_count": 7
  },
  {
   "cell_type": "markdown",
   "id": "98d33719",
   "metadata": {
    "origin_pos": 4
   },
   "source": [
    "## 处理缺失值\n",
    "\n",
    "注意，“NaN”项代表缺失值。\n",
    "[**为了处理缺失的数据，典型的方法包括*插值法*和*删除法*，**]\n",
    "其中插值法用一个替代值弥补缺失值，而删除法则直接忽略缺失值。\n",
    "在(**这里，我们将考虑插值法**)。\n",
    "\n",
    "通过位置索引`iloc`，我们将`data`分成`inputs`和`outputs`，\n",
    "其中前者为`data`的前两列，而后者为`data`的最后一列。\n",
    "对于`inputs`中缺少的数值，我们用同一列的均值替换“NaN”项。\n"
   ]
  },
  {
   "cell_type": "code",
   "id": "365374ca",
   "metadata": {
    "execution": {
     "iopub.execute_input": "2023-08-18T07:34:12.420880Z",
     "iopub.status.busy": "2023-08-18T07:34:12.420300Z",
     "iopub.status.idle": "2023-08-18T07:34:12.428484Z",
     "shell.execute_reply": "2023-08-18T07:34:12.427647Z"
    },
    "origin_pos": 5,
    "tab": [
     "tensorflow"
    ],
    "ExecuteTime": {
     "end_time": "2025-10-06T11:18:37.008115Z",
     "start_time": "2025-10-06T11:18:36.973013Z"
    }
   },
   "source": [
    "inputs, outputs = data.iloc[:, 0:2], data.iloc[:, 2]\n",
    "print(inputs)\n",
    "inputs = inputs.fillna(inputs.mean(numeric_only=True))\n",
    "print(inputs)"
   ],
   "outputs": [
    {
     "name": "stdout",
     "output_type": "stream",
     "text": [
      "   NumRooms Alley\n",
      "0       NaN  Pave\n",
      "1       2.0   NaN\n",
      "2       4.0   NaN\n",
      "3       NaN   NaN\n",
      "   NumRooms Alley\n",
      "0       3.0  Pave\n",
      "1       2.0   NaN\n",
      "2       4.0   NaN\n",
      "3       3.0   NaN\n"
     ]
    }
   ],
   "execution_count": 14
  },
  {
   "cell_type": "markdown",
   "id": "9a02109f",
   "metadata": {
    "origin_pos": 6
   },
   "source": [
    "[**对于`inputs`中的类别值或离散值，我们将“NaN”视为一个类别。**]\n",
    "由于“巷子类型”（“Alley”）列只接受两种类型的类别值“Pave”和“NaN”，\n",
    "`pandas`可以自动将此列转换为两列“Alley_Pave”和“Alley_nan”。\n",
    "巷子类型为“Pave”的行会将“Alley_Pave”的值设置为1，“Alley_nan”的值设置为0。\n",
    "缺少巷子类型的行会将“Alley_Pave”和“Alley_nan”分别设置为0和1。\n"
   ]
  },
  {
   "cell_type": "code",
   "id": "5fb1c092",
   "metadata": {
    "execution": {
     "iopub.execute_input": "2023-08-18T07:34:12.432100Z",
     "iopub.status.busy": "2023-08-18T07:34:12.431501Z",
     "iopub.status.idle": "2023-08-18T07:34:12.441970Z",
     "shell.execute_reply": "2023-08-18T07:34:12.441098Z"
    },
    "origin_pos": 7,
    "tab": [
     "tensorflow"
    ],
    "ExecuteTime": {
     "end_time": "2025-10-06T11:30:53.302388Z",
     "start_time": "2025-10-06T11:30:53.241492Z"
    }
   },
   "source": [
    "inputs = pd.get_dummies(inputs, dummy_na=True)\n",
    "inputs.astype(float)\n",
    "print(inputs)"
   ],
   "outputs": [
    {
     "name": "stdout",
     "output_type": "stream",
     "text": [
      "   NumRooms  Alley_Pave  Alley_nan\n",
      "0       3.0           1          0\n",
      "1       2.0           0          1\n",
      "2       4.0           0          1\n",
      "3       3.0           0          1\n"
     ]
    }
   ],
   "execution_count": 33
  },
  {
   "cell_type": "markdown",
   "id": "f2c67ba3",
   "metadata": {
    "origin_pos": 8
   },
   "source": [
    "## 转换为张量格式\n",
    "\n",
    "[**现在`inputs`和`outputs`中的所有条目都是数值类型，它们可以转换为张量格式。**]\n",
    "当数据采用张量格式后，可以通过在 :numref:`sec_ndarray`中引入的那些张量函数来进一步操作。\n"
   ]
  },
  {
   "cell_type": "code",
   "id": "69410a91",
   "metadata": {
    "execution": {
     "iopub.execute_input": "2023-08-18T07:34:12.445692Z",
     "iopub.status.busy": "2023-08-18T07:34:12.445119Z",
     "iopub.status.idle": "2023-08-18T07:34:16.516652Z",
     "shell.execute_reply": "2023-08-18T07:34:16.515766Z"
    },
    "origin_pos": 11,
    "tab": [
     "tensorflow"
    ],
    "ExecuteTime": {
     "end_time": "2025-10-06T11:31:19.305552Z",
     "start_time": "2025-10-06T11:31:19.292877Z"
    }
   },
   "source": [
    "import torch\n",
    "\n",
    "X = torch.tensor(inputs.values, dtype=torch.float32)\n",
    "y = torch.tensor(outputs.values, dtype=torch.float32)\n",
    "X, y"
   ],
   "outputs": [
    {
     "data": {
      "text/plain": [
       "(tensor([[3., 1., 0.],\n",
       "         [2., 0., 1.],\n",
       "         [4., 0., 1.],\n",
       "         [3., 0., 1.]]),\n",
       " tensor([127500., 106000., 178100., 140000.]))"
      ]
     },
     "execution_count": 34,
     "metadata": {},
     "output_type": "execute_result"
    }
   ],
   "execution_count": 34
  },
  {
   "cell_type": "markdown",
   "id": "3fb511ae",
   "metadata": {
    "origin_pos": 13
   },
   "source": [
    "## 小结\n",
    "\n",
    "* `pandas`软件包是Python中常用的数据分析工具中，`pandas`可以与张量兼容。\n",
    "* 用`pandas`处理缺失的数据时，我们可根据情况选择用插值法和删除法。"
   ]
  }
 ],
 "metadata": {
  "language_info": {
   "name": "python"
  },
  "required_libs": []
 },
 "nbformat": 4,
 "nbformat_minor": 5
}
