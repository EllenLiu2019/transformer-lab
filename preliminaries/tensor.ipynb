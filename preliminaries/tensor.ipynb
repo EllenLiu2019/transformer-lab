{
 "cells": [
  {
   "metadata": {
    "ExecuteTime": {
     "end_time": "2025-10-15T06:10:31.386761Z",
     "start_time": "2025-10-15T06:10:30.281160Z"
    }
   },
   "cell_type": "code",
   "source": [
    "from sympy.printing.pytorch import torch\n",
    "\n",
    "print(f\"torch version: {torch.__version__}\")\n",
    "print(f\"是否支持 NVIDIA GPU 加速: {torch.cuda.is_available()}\")\n",
    "print(f\"是否支持 Apple Silicon 芯片加速: {torch.backends.mps.is_available()}\")"
   ],
   "id": "43a220cebfc7c9ef",
   "outputs": [
    {
     "name": "stdout",
     "output_type": "stream",
     "text": [
      "torch version: 2.8.0\n",
      "是否支持 NVIDIA GPU 加速: False\n",
      "是否支持 Apple Silicon 芯片加速: True\n"
     ]
    }
   ],
   "execution_count": 2
  },
  {
   "metadata": {
    "origin_pos": 0
   },
   "cell_type": "markdown",
   "source": [
    "# 数据操作\n",
    ":label:`sec_ndarray`\n",
    "\n",
    "为了能够完成各种数据操作，我们需要某种方法来存储和操作数据。\n",
    "* 获取数据；\n",
    "* 将数据读入计算机后对其进行处理。\n",
    "\n",
    "首先，我们介绍 $n$ 维数组，也称为 *张量*（tensor）。\n",
    "* 在MXNet中为 `ndarray`，\n",
    "* PyTorch 和 TensorFlow 中为 `Tensor`\n",
    "* Numpy： `ndarray`\n",
    "\n",
    "深度学习框架又比 Numpy 的 `ndarray` 多一些重要功能：\n",
    "\n",
    "计算后端支持：\n",
    "* numpy.ndarray 主要设计用于 CPU 计算。\n",
    "* pytorch.Tensor 支持 CPU 和 GPU (CUDA) 计算，这对于需要大量并行计算的深度学习任务至关重要，可以显著加速训练和推理过程。\n",
    "\n",
    "自动微分：\n",
    "* numpy.ndarray 本身不提供自动求导功能。\n",
    "* pytorch.Tensor 是 PyTorch 深度学习框架的核心，原生支持自动微分（Autograd）。这使得在构建和训练神经网络时，可以自动计算梯度，这是训练模型的关键步骤。\n"
   ],
   "id": "8e54cd7b"
  },
  {
   "cell_type": "markdown",
   "id": "a07b55fb",
   "metadata": {
    "origin_pos": 2,
    "tab": [
     "pytorch"
    ]
   },
   "source": [
    "## 张量初始化\n",
    "\n",
    "首先，导入 `torch` 。请注意，虽然它被称为PyTorch，但是代码中使用 `torch` 而不是 `pytorch`"
   ]
  },
  {
   "cell_type": "code",
   "id": "278e6d3f",
   "metadata": {
    "execution": {
     "iopub.execute_input": "2023-08-18T07:05:01.545874Z",
     "iopub.status.busy": "2023-08-18T07:05:01.545147Z",
     "iopub.status.idle": "2023-08-18T07:05:02.992816Z",
     "shell.execute_reply": "2023-08-18T07:05:02.991719Z"
    },
    "origin_pos": 5,
    "tab": [
     "pytorch"
    ],
    "ExecuteTime": {
     "end_time": "2025-10-13T07:41:05.751077Z",
     "start_time": "2025-10-13T07:41:04.873985Z"
    }
   },
   "source": [
    "import torch"
   ],
   "outputs": [],
   "execution_count": 5
  },
  {
   "cell_type": "markdown",
   "id": "ad15bff7",
   "metadata": {
    "origin_pos": 8
   },
   "source": [
    "张量表示一个由数值组成的数组，这个数组可能有多个维度\n",
    "* 具有一个轴的张量对应数学上的 *向量*（vector）；\n",
    "* 具有两个轴的张量对应数学上的 *矩阵*（matrix）；\n",
    "* 具有两个轴以上的张量没有特殊的数学名称。\n"
   ]
  },
  {
   "cell_type": "markdown",
   "id": "0723e844",
   "metadata": {
    "origin_pos": 10,
    "tab": [
     "pytorch"
    ]
   },
   "source": [
    "首先，使用 `arange` 创建一个向量 `x`。这个行向量包含以 0 开始的前 12 个整数，它们默认创建为整数。也可指定创建类型为浮点数。\n",
    "\n",
    "张量中的每个值都称为张量的 *元素*（element）。例如，张量 `x` 中有 12 个元素。除非额外指定，新的张量将存储在内存中，并采用基于CPU的计算。\n"
   ]
  },
  {
   "cell_type": "code",
   "id": "b1700627",
   "metadata": {
    "execution": {
     "iopub.execute_input": "2023-08-18T07:05:02.997386Z",
     "iopub.status.busy": "2023-08-18T07:05:02.996970Z",
     "iopub.status.idle": "2023-08-18T07:05:03.007632Z",
     "shell.execute_reply": "2023-08-18T07:05:03.006483Z"
    },
    "origin_pos": 13,
    "tab": [
     "pytorch"
    ],
    "ExecuteTime": {
     "end_time": "2025-10-13T07:41:08.255746Z",
     "start_time": "2025-10-13T07:41:08.239997Z"
    }
   },
   "source": [
    "x = torch.arange(12)\n",
    "x"
   ],
   "outputs": [
    {
     "data": {
      "text/plain": [
       "tensor([ 0,  1,  2,  3,  4,  5,  6,  7,  8,  9, 10, 11])"
      ]
     },
     "execution_count": 6,
     "metadata": {},
     "output_type": "execute_result"
    }
   ],
   "execution_count": 6
  },
  {
   "cell_type": "markdown",
   "id": "6c8ebb1e",
   "metadata": {
    "origin_pos": 16
   },
   "source": "可以通过张量的 `shape` 属性来访问张量（沿每个轴的长度）的 *形状* 和张量中元素的总数。"
  },
  {
   "cell_type": "code",
   "id": "b86b6572",
   "metadata": {
    "execution": {
     "iopub.execute_input": "2023-08-18T07:05:03.011628Z",
     "iopub.status.busy": "2023-08-18T07:05:03.011110Z",
     "iopub.status.idle": "2023-08-18T07:05:03.017191Z",
     "shell.execute_reply": "2023-08-18T07:05:03.016193Z"
    },
    "origin_pos": 17,
    "tab": [
     "pytorch"
    ],
    "ExecuteTime": {
     "end_time": "2025-10-13T07:41:09.267594Z",
     "start_time": "2025-10-13T07:41:09.263697Z"
    }
   },
   "source": [
    "x.shape"
   ],
   "outputs": [
    {
     "data": {
      "text/plain": [
       "torch.Size([12])"
      ]
     },
     "execution_count": 7,
     "metadata": {},
     "output_type": "execute_result"
    }
   ],
   "execution_count": 7
  },
  {
   "cell_type": "markdown",
   "id": "25cabae8",
   "metadata": {
    "origin_pos": 18
   },
   "source": [
    "如果只想知道张量中元素的总数，即形状的所有元素乘积，可以检查它的大小（size）。\n",
    "因为这里在处理的是一个向量，所以它的`shape`与它的`size`相同。\n"
   ]
  },
  {
   "cell_type": "code",
   "id": "b8b69ca9",
   "metadata": {
    "execution": {
     "iopub.execute_input": "2023-08-18T07:05:03.020938Z",
     "iopub.status.busy": "2023-08-18T07:05:03.020483Z",
     "iopub.status.idle": "2023-08-18T07:05:03.026998Z",
     "shell.execute_reply": "2023-08-18T07:05:03.025752Z"
    },
    "origin_pos": 20,
    "tab": [
     "pytorch"
    ],
    "ExecuteTime": {
     "end_time": "2025-10-13T07:41:10.732704Z",
     "start_time": "2025-10-13T07:41:10.730329Z"
    }
   },
   "source": [
    "x.numel()"
   ],
   "outputs": [
    {
     "data": {
      "text/plain": [
       "12"
      ]
     },
     "execution_count": 8,
     "metadata": {},
     "output_type": "execute_result"
    }
   ],
   "execution_count": 8
  },
  {
   "cell_type": "markdown",
   "id": "af15bcd6",
   "metadata": {
    "origin_pos": 23
   },
   "source": [
    "要想改变一个张量的形状而不改变元素数量和元素值，可以调用 `reshape` 函数。\n",
    "\n",
    "例如，可以把张量 `x` 从形状为（12,）的向量转换为形状为（3,4）的矩阵。"
   ]
  },
  {
   "cell_type": "code",
   "id": "0f294243",
   "metadata": {
    "execution": {
     "iopub.execute_input": "2023-08-18T07:05:03.031842Z",
     "iopub.status.busy": "2023-08-18T07:05:03.031448Z",
     "iopub.status.idle": "2023-08-18T07:05:03.039288Z",
     "shell.execute_reply": "2023-08-18T07:05:03.038227Z"
    },
    "origin_pos": 24,
    "tab": [
     "pytorch"
    ],
    "ExecuteTime": {
     "end_time": "2025-10-13T07:41:12.592566Z",
     "start_time": "2025-10-13T07:41:12.584546Z"
    }
   },
   "source": [
    "X = x.reshape(3, 4)\n",
    "X"
   ],
   "outputs": [
    {
     "data": {
      "text/plain": [
       "tensor([[ 0,  1,  2,  3],\n",
       "        [ 4,  5,  6,  7],\n",
       "        [ 8,  9, 10, 11]])"
      ]
     },
     "execution_count": 9,
     "metadata": {},
     "output_type": "execute_result"
    }
   ],
   "execution_count": 9
  },
  {
   "cell_type": "markdown",
   "id": "eae533a0",
   "metadata": {
    "origin_pos": 27
   },
   "source": [
    "在上面的例子中，为了获得一个 3 行的矩阵，我们手动指定了它有 3 行和 4 列。\n",
    "也可以用 `x.reshape(-1,4)` 或 `x.reshape(3,-1)` 来取代 `x.reshape(3,4)`。\n",
    "\n",
    "使用全 0、全 1、其他常量，或者从特定分布中随机采样的数字："
   ]
  },
  {
   "cell_type": "code",
   "id": "b23c3056",
   "metadata": {
    "execution": {
     "iopub.execute_input": "2023-08-18T07:05:03.044733Z",
     "iopub.status.busy": "2023-08-18T07:05:03.043866Z",
     "iopub.status.idle": "2023-08-18T07:05:03.052195Z",
     "shell.execute_reply": "2023-08-18T07:05:03.051146Z"
    },
    "origin_pos": 29,
    "tab": [
     "pytorch"
    ],
    "ExecuteTime": {
     "end_time": "2025-10-13T07:41:14.490818Z",
     "start_time": "2025-10-13T07:41:14.473932Z"
    }
   },
   "source": [
    "torch.zeros((2, 3, 4))"
   ],
   "outputs": [
    {
     "data": {
      "text/plain": [
       "tensor([[[0., 0., 0., 0.],\n",
       "         [0., 0., 0., 0.],\n",
       "         [0., 0., 0., 0.]],\n",
       "\n",
       "        [[0., 0., 0., 0.],\n",
       "         [0., 0., 0., 0.],\n",
       "         [0., 0., 0., 0.]]])"
      ]
     },
     "execution_count": 10,
     "metadata": {},
     "output_type": "execute_result"
    }
   ],
   "execution_count": 10
  },
  {
   "metadata": {},
   "cell_type": "markdown",
   "source": "创建单位矩阵 Tensor：单位矩阵是指主对角线上的元素都为 1 的矩阵。",
   "id": "23b69e4ca0f75477"
  },
  {
   "metadata": {
    "ExecuteTime": {
     "end_time": "2025-10-15T06:24:05.833274Z",
     "start_time": "2025-10-15T06:24:05.822142Z"
    }
   },
   "cell_type": "code",
   "source": "torch.eye(5)",
   "id": "882b12fc3bb3a884",
   "outputs": [
    {
     "data": {
      "text/plain": [
       "tensor([[1., 0., 0., 0., 0.],\n",
       "        [0., 1., 0., 0., 0.],\n",
       "        [0., 0., 1., 0., 0.],\n",
       "        [0., 0., 0., 1., 0.],\n",
       "        [0., 0., 0., 0., 1.]])"
      ]
     },
     "execution_count": 21,
     "metadata": {},
     "output_type": "execute_result"
    }
   ],
   "execution_count": 21
  },
  {
   "cell_type": "markdown",
   "id": "6a180a12",
   "metadata": {
    "origin_pos": 32
   },
   "source": [
    "同样，我们可以创建一个形状为`(2,3,4)`的张量，其中所有元素都设置为1。代码如下：\n"
   ]
  },
  {
   "cell_type": "code",
   "id": "25981960",
   "metadata": {
    "execution": {
     "iopub.execute_input": "2023-08-18T07:05:03.057264Z",
     "iopub.status.busy": "2023-08-18T07:05:03.056578Z",
     "iopub.status.idle": "2023-08-18T07:05:03.064973Z",
     "shell.execute_reply": "2023-08-18T07:05:03.063853Z"
    },
    "origin_pos": 34,
    "tab": [
     "pytorch"
    ],
    "ExecuteTime": {
     "end_time": "2025-10-13T07:41:16.750846Z",
     "start_time": "2025-10-13T07:41:16.740462Z"
    }
   },
   "source": [
    "torch.ones((2, 3, 4))"
   ],
   "outputs": [
    {
     "data": {
      "text/plain": [
       "tensor([[[1., 1., 1., 1.],\n",
       "         [1., 1., 1., 1.],\n",
       "         [1., 1., 1., 1.]],\n",
       "\n",
       "        [[1., 1., 1., 1.],\n",
       "         [1., 1., 1., 1.],\n",
       "         [1., 1., 1., 1.]]])"
      ]
     },
     "execution_count": 11,
     "metadata": {},
     "output_type": "execute_result"
    }
   ],
   "execution_count": 11
  },
  {
   "metadata": {},
   "cell_type": "markdown",
   "source": "torch.rand 用于生成数据类型为浮点型且维度指定的随机 Tensor，随机生成的浮点数据在 0~1 区间均匀分布。",
   "id": "4413574c74c58ef6"
  },
  {
   "metadata": {
    "ExecuteTime": {
     "end_time": "2025-10-15T06:25:50.020970Z",
     "start_time": "2025-10-15T06:25:50.005937Z"
    }
   },
   "cell_type": "code",
   "source": "torch.rand(3)",
   "id": "99b41932cde383ab",
   "outputs": [
    {
     "data": {
      "text/plain": [
       "tensor([0.1969, 0.1430, 0.3298])"
      ]
     },
     "execution_count": 22,
     "metadata": {},
     "output_type": "execute_result"
    }
   ],
   "execution_count": 22
  },
  {
   "cell_type": "markdown",
   "id": "672f1257",
   "metadata": {
    "origin_pos": 37
   },
   "source": [
    "有时我们想通过 *从某个特定的概率分布中随机采样* 来得到张量中每个元素的值。\n",
    "\n",
    "例如，当我们构造数组来作为神经网络中的参数时，我们通常会随机初始化参数的值。\n",
    "\n",
    "以下代码创建一个形状为（3,4）的张量。其中的每个元素都从均值为 0、标准差为 1 的标准高斯分布（正态分布）中随机采样。"
   ]
  },
  {
   "cell_type": "code",
   "id": "2493f09a",
   "metadata": {
    "execution": {
     "iopub.execute_input": "2023-08-18T07:05:03.069946Z",
     "iopub.status.busy": "2023-08-18T07:05:03.069231Z",
     "iopub.status.idle": "2023-08-18T07:05:03.077304Z",
     "shell.execute_reply": "2023-08-18T07:05:03.076139Z"
    },
    "origin_pos": 39,
    "tab": [
     "pytorch"
    ],
    "ExecuteTime": {
     "end_time": "2025-10-13T07:41:18.879123Z",
     "start_time": "2025-10-13T07:41:18.863559Z"
    }
   },
   "source": [
    "torch.randn(3, 4)"
   ],
   "outputs": [
    {
     "data": {
      "text/plain": [
       "tensor([[-0.9509,  0.5276, -0.1843,  0.1060],\n",
       "        [ 0.1019, -0.8144, -0.8904, -1.4677],\n",
       "        [ 0.8722,  0.5286, -1.9017, -1.2340]])"
      ]
     },
     "execution_count": 12,
     "metadata": {},
     "output_type": "execute_result"
    }
   ],
   "execution_count": 12
  },
  {
   "metadata": {},
   "cell_type": "markdown",
   "source": "torch.normal 用于生成数据类型为浮点型且维度指定的随机 Tensor，可以指定均值和标准差",
   "id": "bd7340c5c71736e5"
  },
  {
   "metadata": {
    "ExecuteTime": {
     "end_time": "2025-10-15T06:26:51.253584Z",
     "start_time": "2025-10-15T06:26:51.245361Z"
    }
   },
   "cell_type": "code",
   "source": "torch.normal(mean=0, std=1, size=(2,2,3))",
   "id": "ff036af683613bbb",
   "outputs": [
    {
     "data": {
      "text/plain": [
       "tensor([[[-1.0190, -1.0322, -1.8399],\n",
       "         [ 0.1970,  0.4885,  1.2506]],\n",
       "\n",
       "        [[ 1.2020,  0.3440, -0.2949],\n",
       "         [-1.5890,  0.5834,  1.1374]]])"
      ]
     },
     "execution_count": 24,
     "metadata": {},
     "output_type": "execute_result"
    }
   ],
   "execution_count": 24
  },
  {
   "metadata": {},
   "cell_type": "markdown",
   "source": "torch.randint 用于生成随机整数的 Tensor，其内部填充的是在[low,high) 均匀生成的随机整数。",
   "id": "d9f12f4270dc677"
  },
  {
   "metadata": {
    "ExecuteTime": {
     "end_time": "2025-10-15T06:28:14.315867Z",
     "start_time": "2025-10-15T06:28:14.307313Z"
    }
   },
   "cell_type": "code",
   "source": "torch.randint(low=0, high=5, size=(2,1,3))",
   "id": "83110a3ec7668ae2",
   "outputs": [
    {
     "data": {
      "text/plain": [
       "tensor([[[3, 2, 2]],\n",
       "\n",
       "        [[1, 2, 0]]])"
      ]
     },
     "execution_count": 26,
     "metadata": {},
     "output_type": "execute_result"
    }
   ],
   "execution_count": 26
  },
  {
   "metadata": {
    "ExecuteTime": {
     "end_time": "2025-10-15T06:28:26.862550Z",
     "start_time": "2025-10-15T06:28:26.848594Z"
    }
   },
   "cell_type": "code",
   "source": "torch.randint(low=0, high=5, size=(2,2,3))",
   "id": "c91e1e5ca434e866",
   "outputs": [
    {
     "data": {
      "text/plain": [
       "tensor([[[3, 2, 0],\n",
       "         [4, 0, 3]],\n",
       "\n",
       "        [[3, 4, 0],\n",
       "         [3, 4, 3]]])"
      ]
     },
     "execution_count": 27,
     "metadata": {},
     "output_type": "execute_result"
    }
   ],
   "execution_count": 27
  },
  {
   "cell_type": "markdown",
   "id": "cc2299f0",
   "metadata": {
    "origin_pos": 42
   },
   "source": [
    "我们还可以 **通过提供包含数值的Python列表（或嵌套列表），来为所需张量中的每个元素赋予确定值**。\n",
    "\n",
    "在这里，最外层的列表对应于轴0，内层的列表对应于轴1。"
   ]
  },
  {
   "cell_type": "code",
   "id": "708be494",
   "metadata": {
    "execution": {
     "iopub.execute_input": "2023-08-18T07:05:03.082360Z",
     "iopub.status.busy": "2023-08-18T07:05:03.081424Z",
     "iopub.status.idle": "2023-08-18T07:05:03.090148Z",
     "shell.execute_reply": "2023-08-18T07:05:03.088973Z"
    },
    "origin_pos": 44,
    "tab": [
     "pytorch"
    ],
    "ExecuteTime": {
     "end_time": "2025-10-13T07:41:19.910369Z",
     "start_time": "2025-10-13T07:41:19.905357Z"
    }
   },
   "source": [
    "torch.tensor([[2, 1, 4, 3], [1, 2, 3, 4], [4, 3, 2, 1]])"
   ],
   "outputs": [
    {
     "data": {
      "text/plain": [
       "tensor([[2, 1, 4, 3],\n",
       "        [1, 2, 3, 4],\n",
       "        [4, 3, 2, 1]])"
      ]
     },
     "execution_count": 13,
     "metadata": {},
     "output_type": "execute_result"
    }
   ],
   "execution_count": 13
  },
  {
   "metadata": {},
   "cell_type": "markdown",
   "source": [
    "## 增减维度\n",
    "### squeeze & unsqueeze"
   ],
   "id": "4f3516163609dbf6"
  },
  {
   "metadata": {
    "ExecuteTime": {
     "end_time": "2025-10-15T06:31:58.680618Z",
     "start_time": "2025-10-15T06:31:58.665743Z"
    }
   },
   "cell_type": "code",
   "source": [
    "x = torch.rand(2,1,3)\n",
    "print(f\"x:\\n{x}\")\n",
    "print(f\"\\nx.shape:\\n{x.shape}\")\n",
    "y = x.squeeze(1)\n",
    "print(f\"y:\\n{y}\")\n",
    "print(f\"\\ny.shape:\\n{y.shape}\")\n",
    "\n",
    "# 将第 1 维度的数据删除得到 z, 由于第 1 维度为3，squeeze 不能删除\n",
    "#z = y.squeeze(1)\n",
    "#print(z)\n",
    "#print(z.shape)\n",
    "# 在第 1 维度插入一个维度\n",
    "z = y.unsqueeze(1)\n",
    "print(f\"\\nz:\\n{z}\")\n",
    "print(f\"\\nz.shape:\\n{z.shape}\")"
   ],
   "id": "29b5f8416d2bfbb7",
   "outputs": [
    {
     "name": "stdout",
     "output_type": "stream",
     "text": [
      "x:\n",
      "tensor([[[0.6354, 0.0547, 0.7144]],\n",
      "\n",
      "        [[0.0064, 0.1339, 0.9448]]])\n",
      "\n",
      "x.shape:\n",
      "torch.Size([2, 1, 3])\n",
      "y:\n",
      "tensor([[0.6354, 0.0547, 0.7144],\n",
      "        [0.0064, 0.1339, 0.9448]])\n",
      "\n",
      "y.shape:\n",
      "torch.Size([2, 3])\n",
      "\n",
      "z:\n",
      "tensor([[[0.6354, 0.0547, 0.7144]],\n",
      "\n",
      "        [[0.0064, 0.1339, 0.9448]]])\n",
      "\n",
      "z.shape:\n",
      "torch.Size([2, 1, 3])\n"
     ]
    }
   ],
   "execution_count": 31
  },
  {
   "metadata": {},
   "cell_type": "markdown",
   "source": "## 连接操作",
   "id": "cfce6250e905dbd3"
  },
  {
   "metadata": {
    "ExecuteTime": {
     "end_time": "2025-10-15T06:34:32.175852Z",
     "start_time": "2025-10-15T06:34:32.156217Z"
    }
   },
   "cell_type": "code",
   "source": [
    "A=torch.ones(3,3)\n",
    "B=2*torch.ones(3,3)\n",
    "print(f\"A:\\n{A}\")\n",
    "print(f\"\\nB:\\n{B}\")\n",
    "C = torch.cat((A,B), dim=0)\n",
    "print(f\"C:\\n{C}\")\n",
    "D = torch.cat((A,B), dim=1)\n",
    "print(f\"D:\\n{D}\")"
   ],
   "id": "feceac4b20468b87",
   "outputs": [
    {
     "name": "stdout",
     "output_type": "stream",
     "text": [
      "A:\n",
      "tensor([[1., 1., 1.],\n",
      "        [1., 1., 1.],\n",
      "        [1., 1., 1.]])\n",
      "\n",
      "B:\n",
      "tensor([[2., 2., 2.],\n",
      "        [2., 2., 2.],\n",
      "        [2., 2., 2.]])\n",
      "C:\n",
      "tensor([[1., 1., 1.],\n",
      "        [1., 1., 1.],\n",
      "        [1., 1., 1.],\n",
      "        [2., 2., 2.],\n",
      "        [2., 2., 2.],\n",
      "        [2., 2., 2.]])\n",
      "D:\n",
      "tensor([[1., 1., 1., 2., 2., 2.],\n",
      "        [1., 1., 1., 2., 2., 2.],\n",
      "        [1., 1., 1., 2., 2., 2.]])\n"
     ]
    }
   ],
   "execution_count": 33
  },
  {
   "metadata": {},
   "cell_type": "markdown",
   "source": [
    "## 堆叠 stack\n",
    "\n",
    "假设我们有两个二维矩阵 Tensor，把它们“堆叠”放在一起，构成一个三维的 Tensor，如下图：\n",
    "\n",
    "<img src=\"../images/tensor_stack.png\" width=\"20%\"/>"
   ],
   "id": "b88529a5713b2f30"
  },
  {
   "metadata": {
    "ExecuteTime": {
     "end_time": "2025-10-15T06:40:20.330339Z",
     "start_time": "2025-10-15T06:40:20.315156Z"
    }
   },
   "cell_type": "code",
   "source": [
    "A=torch.arange(0,4)\n",
    "print(f\"A:\\n{A}\")\n",
    "B=torch.arange(5,9)\n",
    "print(f\"\\nB:\\n{B}\")\n",
    "C = torch.stack((A,B), dim=0)\n",
    "print(f\"\\ntorch.stack((A,B), dim=0):\\n{C}\")\n",
    "D = torch.stack((A,B), dim=1)\n",
    "print(f\"\\ntorch.stack((A,B), dim=1):\\n{D}\")"
   ],
   "id": "1e080bca492d3083",
   "outputs": [
    {
     "name": "stdout",
     "output_type": "stream",
     "text": [
      "A:\n",
      "tensor([0, 1, 2, 3])\n",
      "\n",
      "B:\n",
      "tensor([5, 6, 7, 8])\n",
      "\n",
      "torch.stack((A,B), dim=0):\n",
      "tensor([[0, 1, 2, 3],\n",
      "        [5, 6, 7, 8]])\n",
      "\n",
      "torch.stack((A,B), dim=1):\n",
      "tensor([[0, 5],\n",
      "        [1, 6],\n",
      "        [2, 7],\n",
      "        [3, 8]])\n"
     ]
    }
   ],
   "execution_count": 37
  },
  {
   "metadata": {},
   "cell_type": "markdown",
   "source": [
    "## 切分操作\n",
    "### 一维向量"
   ],
   "id": "45d19c4fbe2c1233"
  },
  {
   "metadata": {
    "ExecuteTime": {
     "end_time": "2025-10-15T06:41:55.767617Z",
     "start_time": "2025-10-15T06:41:55.758554Z"
    }
   },
   "cell_type": "code",
   "source": [
    "A=torch.tensor([1,2,3,4,5,6,7,8,9,10])\n",
    "print(f\"A:\\n{A}\")\n",
    "B = torch.chunk(A, 2, 0)\n",
    "print(f\"\\ntorch.chunk(A, 2, 0):\\n{B}\")\n",
    "B = torch.chunk(A, 3, 0)\n",
    "print(f\"\\ntorch.chunk(A, 3, 0):\\n{B}\")"
   ],
   "id": "e3c1279a25e8716e",
   "outputs": [
    {
     "name": "stdout",
     "output_type": "stream",
     "text": [
      "A:\n",
      "tensor([ 1,  2,  3,  4,  5,  6,  7,  8,  9, 10])\n",
      "\n",
      "torch.chunk(A, 2, 0):\n",
      "(tensor([1, 2, 3, 4, 5]), tensor([ 6,  7,  8,  9, 10]))\n",
      "\n",
      "torch.chunk(A, 3, 0):\n",
      "(tensor([1, 2, 3, 4]), tensor([5, 6, 7, 8]), tensor([ 9, 10]))\n"
     ]
    }
   ],
   "execution_count": 40
  },
  {
   "metadata": {},
   "cell_type": "markdown",
   "source": "### 二维矩阵",
   "id": "a549c88f38c7c79d"
  },
  {
   "metadata": {
    "ExecuteTime": {
     "end_time": "2025-10-15T06:42:28.293338Z",
     "start_time": "2025-10-15T06:42:28.285138Z"
    }
   },
   "cell_type": "code",
   "source": [
    "x = torch.tensor([[1,2,3],[4,5,6],[7,8,9]])\n",
    "print(x)\n",
    "print(x.shape)"
   ],
   "id": "458d89b62e1df65a",
   "outputs": [
    {
     "name": "stdout",
     "output_type": "stream",
     "text": [
      "tensor([[1, 2, 3],\n",
      "        [4, 5, 6],\n",
      "        [7, 8, 9]])\n",
      "torch.Size([3, 3])\n"
     ]
    }
   ],
   "execution_count": 41
  },
  {
   "metadata": {
    "ExecuteTime": {
     "end_time": "2025-10-15T06:44:17.995735Z",
     "start_time": "2025-10-15T06:44:17.944675Z"
    }
   },
   "cell_type": "code",
   "source": [
    "A=torch.ones(4,4)\n",
    "print(A)\n",
    "# 尝试将矩阵 A 的 0 维平均切分为 2 份\n",
    "B = torch.chunk(input=A, chunks=2, dim=0)\n",
    "print(f\"B:\\n{B}\")"
   ],
   "id": "45cc113dc2bfaa59",
   "outputs": [
    {
     "name": "stdout",
     "output_type": "stream",
     "text": [
      "tensor([[1., 1., 1., 1.],\n",
      "        [1., 1., 1., 1.],\n",
      "        [1., 1., 1., 1.],\n",
      "        [1., 1., 1., 1.]])\n",
      "B:\n",
      "(tensor([[1., 1., 1., 1.],\n",
      "        [1., 1., 1., 1.]]), tensor([[1., 1., 1., 1.],\n",
      "        [1., 1., 1., 1.]]))\n"
     ]
    }
   ],
   "execution_count": 43
  },
  {
   "metadata": {
    "ExecuteTime": {
     "end_time": "2025-10-15T06:47:27.984305Z",
     "start_time": "2025-10-15T06:47:27.971992Z"
    }
   },
   "cell_type": "code",
   "source": [
    "A=torch.ones(4,4)\n",
    "print(A)\n",
    "# 尝试将矩阵 A 的 0 维切分为每份大小为 2 的矩阵\n",
    "# split_size_or_sections: size of a single chunk or list of sizes for each chunk\n",
    "B=torch.split(A, split_size_or_sections=2, dim=0)\n",
    "print(f\"\\nB:\\n{B}\")\n",
    "C=torch.split(A, split_size_or_sections=3, dim=0)\n",
    "print(f\"\\nC:\\n{C}\")\n",
    "D=torch.split(A, split_size_or_sections=(1,2,1), dim=0)\n",
    "print(f\"\\nD:\\n{D}\")"
   ],
   "id": "1186d678c7d5cbcd",
   "outputs": [
    {
     "name": "stdout",
     "output_type": "stream",
     "text": [
      "tensor([[1., 1., 1., 1.],\n",
      "        [1., 1., 1., 1.],\n",
      "        [1., 1., 1., 1.],\n",
      "        [1., 1., 1., 1.]])\n",
      "\n",
      "B:\n",
      "(tensor([[1., 1., 1., 1.],\n",
      "        [1., 1., 1., 1.]]), tensor([[1., 1., 1., 1.],\n",
      "        [1., 1., 1., 1.]]))\n",
      "\n",
      "C:\n",
      "(tensor([[1., 1., 1., 1.],\n",
      "        [1., 1., 1., 1.],\n",
      "        [1., 1., 1., 1.]]), tensor([[1., 1., 1., 1.]]))\n",
      "\n",
      "D:\n",
      "(tensor([[1., 1., 1., 1.]]), tensor([[1., 1., 1., 1.],\n",
      "        [1., 1., 1., 1.]]), tensor([[1., 1., 1., 1.]]))\n"
     ]
    }
   ],
   "execution_count": 47
  },
  {
   "metadata": {
    "ExecuteTime": {
     "end_time": "2025-10-15T06:49:15.183072Z",
     "start_time": "2025-10-15T06:49:15.173249Z"
    }
   },
   "cell_type": "code",
   "source": [
    "A=torch.arange(0,16).view(4,4)\n",
    "print(A)\n",
    "b=torch.unbind(A, 0)\n",
    "print(b)\n",
    "d=torch.unbind(A, 1)\n",
    "print(d)"
   ],
   "id": "2b61754a659d369c",
   "outputs": [
    {
     "name": "stdout",
     "output_type": "stream",
     "text": [
      "tensor([[ 0,  1,  2,  3],\n",
      "        [ 4,  5,  6,  7],\n",
      "        [ 8,  9, 10, 11],\n",
      "        [12, 13, 14, 15]])\n",
      "(tensor([0, 1, 2, 3]), tensor([4, 5, 6, 7]), tensor([ 8,  9, 10, 11]), tensor([12, 13, 14, 15]))\n",
      "(tensor([ 0,  4,  8, 12]), tensor([ 1,  5,  9, 13]), tensor([ 2,  6, 10, 14]), tensor([ 3,  7, 11, 15]))\n"
     ]
    }
   ],
   "execution_count": 48
  },
  {
   "metadata": {},
   "cell_type": "markdown",
   "source": [
    "## 索引操作\n",
    "\n",
    "### index_select"
   ],
   "id": "d790d6dca7f74d74"
  },
  {
   "metadata": {
    "ExecuteTime": {
     "end_time": "2025-10-15T06:50:15.057876Z",
     "start_time": "2025-10-15T06:50:15.038768Z"
    }
   },
   "cell_type": "code",
   "source": [
    "A=torch.arange(0,16).view(4,4)\n",
    "print(A)\n",
    "B=torch.index_select(A,0,torch.tensor([1,3]))\n",
    "print(B)\n",
    "C=torch.index_select(A,1,torch.tensor([0,3]))\n",
    "print(C)"
   ],
   "id": "f1f9c1a7b7e5bf9d",
   "outputs": [
    {
     "name": "stdout",
     "output_type": "stream",
     "text": [
      "tensor([[ 0,  1,  2,  3],\n",
      "        [ 4,  5,  6,  7],\n",
      "        [ 8,  9, 10, 11],\n",
      "        [12, 13, 14, 15]])\n",
      "tensor([[ 4,  5,  6,  7],\n",
      "        [12, 13, 14, 15]])\n",
      "tensor([[ 0,  3],\n",
      "        [ 4,  7],\n",
      "        [ 8, 11],\n",
      "        [12, 15]])\n"
     ]
    }
   ],
   "execution_count": 49
  },
  {
   "metadata": {},
   "cell_type": "markdown",
   "source": "### masked_select",
   "id": "1caf9c88f0e6feb0"
  },
  {
   "metadata": {
    "ExecuteTime": {
     "end_time": "2025-10-15T06:51:24.451697Z",
     "start_time": "2025-10-15T06:51:24.415288Z"
    }
   },
   "cell_type": "code",
   "source": [
    "A=torch.rand(5)\n",
    "print(A)\n",
    "B=A>0.3\n",
    "print(B)\n",
    "C=torch.masked_select(A, B)\n",
    "print(C)\n",
    "D=torch.masked_select(A, A>0.3)\n",
    "print(D)\n",
    "A1=torch.rand(10, 3)\n",
    "print(A1)"
   ],
   "id": "4c1759874a641b60",
   "outputs": [
    {
     "name": "stdout",
     "output_type": "stream",
     "text": [
      "tensor([0.0532, 0.7556, 0.1031, 0.5389, 0.6527])\n",
      "tensor([False,  True, False,  True,  True])\n",
      "tensor([0.7556, 0.5389, 0.6527])\n",
      "tensor([0.7556, 0.5389, 0.6527])\n",
      "tensor([[0.4980, 0.0554, 0.7147],\n",
      "        [0.8291, 0.6553, 0.2997],\n",
      "        [0.0377, 0.6308, 0.1919],\n",
      "        [0.1169, 0.1668, 0.0057],\n",
      "        [0.9951, 0.1011, 0.0643],\n",
      "        [0.1707, 0.5870, 0.2941],\n",
      "        [0.8062, 0.4563, 0.2052],\n",
      "        [0.5206, 0.0651, 0.3170],\n",
      "        [0.1276, 0.4878, 0.9604],\n",
      "        [0.0880, 0.4461, 0.4699]])\n"
     ]
    }
   ],
   "execution_count": 50
  },
  {
   "cell_type": "markdown",
   "id": "561a2ec6",
   "metadata": {
    "origin_pos": 47
   },
   "source": [
    "## 运算符\n",
    "\n",
    "我们的兴趣不仅限于读取数据和写入数据。\n",
    "我们想在这些数据上执行数学运算，其中最简单且最有用的操作是 *按元素*（elementwise）运算。它们将标准标量运算符应用于数组的每个元素。\n",
    "\n",
    "对于将两个数组作为输入的函数，按元素运算将二元运算符应用于两个数组中的每对位置对应的元素。我们可以基于任何从标量到标量的函数来创建按元素函数。\n",
    "\n",
    "在数学表示法中，我们将通过符号 $f: \\mathbb{R} \\rightarrow \\mathbb{R}$ 来表示 *一元* 标量运算符（只接收一个输入）。\n",
    "\n",
    "这意味着该函数从任何实数（ $\\mathbb{R}$ ）映射到另一个实数。\n",
    "\n",
    "同样，我们通过符号 $f: \\mathbb{R}, \\mathbb{R} \\rightarrow \\mathbb{R}$ 表示 *二元* 标量运算符，这意味着该函数接收两个输入，并产生一个输出。\n",
    "\n",
    "给定同一形状的任意两个向量 $\\mathbf{u}$ 和 $\\mathbf{v}$ 和二元运算符 $f$，我们可以得到向量 $\\mathbf{c} = F(\\mathbf{u},\\mathbf{v})$。\n",
    "\n",
    "具体计算方法是 $c_i \\gets f(u_i, v_i)$，其中 $c_i$ 、 $u_i$ 和 $v_i$ 分别是向量 $\\mathbf{c}$ 、$\\mathbf{u}$ 和 $\\mathbf{v}$ 中的元素。\n",
    "在这里，我们通过将标量函数升级为按元素向量运算来生成向量值 $F: \\mathbb{R}^d, \\mathbb{R}^d \\rightarrow \\mathbb{R}^d$。\n",
    "\n",
    "对于任意具有相同形状的张量，**常见的标准算术运算符（ `+` 、`-` 、`*` 、`/` 和 `**` ）都可以被升级为按元素运算**。\n",
    "\n",
    "我们可以在同一形状的任意两个张量上调用按元素操作。在下面的例子中，我们使用逗号来表示一个具有 4 个元素的元组，其中每个元素都是按元素操作的结果。\n"
   ]
  },
  {
   "cell_type": "code",
   "id": "99b28553",
   "metadata": {
    "execution": {
     "iopub.execute_input": "2023-08-18T07:05:03.095504Z",
     "iopub.status.busy": "2023-08-18T07:05:03.094688Z",
     "iopub.status.idle": "2023-08-18T07:05:03.106084Z",
     "shell.execute_reply": "2023-08-18T07:05:03.104976Z"
    },
    "origin_pos": 49,
    "tab": [
     "pytorch"
    ],
    "ExecuteTime": {
     "end_time": "2025-10-13T07:41:23.586872Z",
     "start_time": "2025-10-13T07:41:23.577881Z"
    }
   },
   "source": [
    "x = torch.tensor([1.0, 2, 4, 8])\n",
    "y = torch.tensor([2, 2, 2, 2])\n",
    "x + y, x - y, x * y, x / y, x ** y  # **运算符是求幂运算"
   ],
   "outputs": [
    {
     "data": {
      "text/plain": [
       "(tensor([ 3.,  4.,  6., 10.]),\n",
       " tensor([-1.,  0.,  2.,  6.]),\n",
       " tensor([ 2.,  4.,  8., 16.]),\n",
       " tensor([0.5000, 1.0000, 2.0000, 4.0000]),\n",
       " tensor([ 1.,  4., 16., 64.]))"
      ]
     },
     "execution_count": 14,
     "metadata": {},
     "output_type": "execute_result"
    }
   ],
   "execution_count": 14
  },
  {
   "cell_type": "markdown",
   "id": "1d37bed5",
   "metadata": {
    "origin_pos": 52
   },
   "source": "**“按元素”方式可以应用更多的计算**，包括像求幂这样的一元运算符：$exp(x)$ 或 $e^x$"
  },
  {
   "cell_type": "code",
   "id": "ef07c995",
   "metadata": {
    "execution": {
     "iopub.execute_input": "2023-08-18T07:05:03.110973Z",
     "iopub.status.busy": "2023-08-18T07:05:03.110221Z",
     "iopub.status.idle": "2023-08-18T07:05:03.120389Z",
     "shell.execute_reply": "2023-08-18T07:05:03.119471Z"
    },
    "origin_pos": 54,
    "tab": [
     "pytorch"
    ],
    "ExecuteTime": {
     "end_time": "2025-10-13T07:41:27.273822Z",
     "start_time": "2025-10-13T07:41:27.266196Z"
    }
   },
   "source": [
    "print(f\"x:{x}\")\n",
    "print(torch.exp(x))"
   ],
   "outputs": [
    {
     "name": "stdout",
     "output_type": "stream",
     "text": [
      "x:tensor([1., 2., 4., 8.])\n",
      "tensor([2.7183e+00, 7.3891e+00, 5.4598e+01, 2.9810e+03])\n"
     ]
    }
   ],
   "execution_count": 15
  },
  {
   "metadata": {},
   "cell_type": "markdown",
   "source": [
    "$exp(x)$ 或 $e^x$ 定义：\n",
    "* 这个函数的形式为 f(x) = $e^x$ ，其中 e 是一个无理数，称为自然常数或欧拉数 (Euler's number)。\n",
    "* e 的近似值约为 2.718281828...。\n",
    "\n",
    "重要性质：\n",
    "* 导数特性：这个函数的一个关键特性是它的导数等于它本身，即 $d/dx (e^x)$ = $e^x$。这使得它在微积分和微分方程中非常重要。\n",
    "* 增长特性：它是一个单调递增的函数，当 x 增大时，e^x 增长得非常快。\n",
    "* 特殊点：当 x = 0 时，e^0 = 1。"
   ],
   "id": "747be4a05d90f831"
  },
  {
   "metadata": {
    "ExecuteTime": {
     "end_time": "2025-10-13T13:17:43.380461Z",
     "start_time": "2025-10-13T13:17:42.310746Z"
    }
   },
   "cell_type": "code",
   "source": [
    "import torch\n",
    "import matplotlib.pyplot as plt\n",
    "\n",
    "# 创建x轴数据\n",
    "x = torch.linspace(-2, 2, 100)\n",
    "# 计算y值: y = e^x\n",
    "y = torch.exp(x)\n",
    "\n",
    "# 转换为numpy数组以便绘图\n",
    "x_np = x.numpy()\n",
    "y_np = y.numpy()\n",
    "\n",
    "# 绘制图像\n",
    "plt.figure(figsize=(8, 6))\n",
    "plt.plot(x_np, y_np, label='y = exp(x)', color='blue')\n",
    "plt.xlabel('x')\n",
    "plt.ylabel('y')\n",
    "plt.title('Torch Exponential Function: y = e^x')\n",
    "plt.grid(True)\n",
    "plt.legend()\n",
    "plt.show()\n"
   ],
   "id": "990760922e435a3",
   "outputs": [
    {
     "data": {
      "text/plain": [
       "<Figure size 800x600 with 1 Axes>"
      ],
      "image/png": "[encoded data removed]"
     },
     "metadata": {},
     "output_type": "display_data"
    }
   ],
   "execution_count": 1
  },
  {
   "cell_type": "markdown",
   "id": "cc76ca21",
   "metadata": {
    "origin_pos": 57
   },
   "source": [
    "除了按元素计算外，我们还可以执行线性代数运算，包括向量点积和矩阵乘法。我们将在 :numref:`sec_linear-algebra`中解释线性代数的重点内容。\n",
    "\n",
    "**我们也可以把多个张量 *连结*（concatenate）在一起**，把它们端对端地叠起来形成一个更大的张量。\n",
    "我们只需要提供张量列表，并给出沿哪个轴连结。下面的例子分别演示了当我们沿行（轴-0，形状的第一个元素）和按列（轴-1，形状的第二个元素）连结两个矩阵时，会发生什么情况。\n",
    "\n",
    "我们可以看到，第一个输出张量的轴-0长度（$6$）是两个输入张量轴-0长度的总和（$3 + 3$）；\n",
    "第二个输出张量的轴-1长度（$8$）是两个输入张量轴-1长度的总和（$4 + 4$）。\n"
   ]
  },
  {
   "cell_type": "code",
   "id": "a583b891",
   "metadata": {
    "execution": {
     "iopub.execute_input": "2023-08-18T07:05:03.125263Z",
     "iopub.status.busy": "2023-08-18T07:05:03.124477Z",
     "iopub.status.idle": "2023-08-18T07:05:03.136328Z",
     "shell.execute_reply": "2023-08-18T07:05:03.135199Z"
    },
    "origin_pos": 59,
    "tab": [
     "pytorch"
    ],
    "ExecuteTime": {
     "end_time": "2025-10-13T07:52:13.341832Z",
     "start_time": "2025-10-13T07:52:13.256968Z"
    }
   },
   "source": [
    "X = torch.arange(12, dtype=torch.float32).reshape((3,4))\n",
    "Y = torch.tensor([[2.0, 1, 4, 3], [1, 2, 3, 4], [4, 3, 2, 1]])\n",
    "X, Y, torch.cat((X, Y), dim=0), torch.cat((X, Y), dim=1)"
   ],
   "outputs": [
    {
     "data": {
      "text/plain": [
       "(tensor([[ 0.,  1.,  2.,  3.],\n",
       "         [ 4.,  5.,  6.,  7.],\n",
       "         [ 8.,  9., 10., 11.]]),\n",
       " tensor([[2., 1., 4., 3.],\n",
       "         [1., 2., 3., 4.],\n",
       "         [4., 3., 2., 1.]]),\n",
       " tensor([[ 0.,  1.,  2.,  3.],\n",
       "         [ 4.,  5.,  6.,  7.],\n",
       "         [ 8.,  9., 10., 11.],\n",
       "         [ 2.,  1.,  4.,  3.],\n",
       "         [ 1.,  2.,  3.,  4.],\n",
       "         [ 4.,  3.,  2.,  1.]]),\n",
       " tensor([[ 0.,  1.,  2.,  3.,  2.,  1.,  4.,  3.],\n",
       "         [ 4.,  5.,  6.,  7.,  1.,  2.,  3.,  4.],\n",
       "         [ 8.,  9., 10., 11.,  4.,  3.,  2.,  1.]]))"
      ]
     },
     "execution_count": 16,
     "metadata": {},
     "output_type": "execute_result"
    }
   ],
   "execution_count": 16
  },
  {
   "cell_type": "markdown",
   "id": "44965a95",
   "metadata": {
    "origin_pos": 62
   },
   "source": [
    "有时，我们想 **通过 *逻辑运算符* 构建二元张量** 。以 `X == Y` 为例：对于每个位置，如果 `X` 和 `Y` 在该位置相等，则新张量中相应项的值为1。\n",
    "\n",
    "这意味着逻辑语句 `X == Y` 在该位置处为真，否则该位置为0。"
   ]
  },
  {
   "cell_type": "code",
   "execution_count": 13,
   "id": "6405ec63",
   "metadata": {
    "execution": {
     "iopub.execute_input": "2023-08-18T07:05:03.141449Z",
     "iopub.status.busy": "2023-08-18T07:05:03.140776Z",
     "iopub.status.idle": "2023-08-18T07:05:03.148692Z",
     "shell.execute_reply": "2023-08-18T07:05:03.147491Z"
    },
    "origin_pos": 63,
    "tab": [
     "pytorch"
    ]
   },
   "outputs": [
    {
     "data": {
      "text/plain": [
       "tensor([[False,  True, False,  True],\n",
       "        [False, False, False, False],\n",
       "        [False, False, False, False]])"
      ]
     },
     "execution_count": 13,
     "metadata": {},
     "output_type": "execute_result"
    }
   ],
   "source": [
    "X == Y"
   ]
  },
  {
   "cell_type": "markdown",
   "id": "ffab6a71",
   "metadata": {
    "origin_pos": 64
   },
   "source": "对张量中的所有元素进行求和，会产生一个单元素张量\n"
  },
  {
   "cell_type": "code",
   "execution_count": 14,
   "id": "a13cb291",
   "metadata": {
    "execution": {
     "iopub.execute_input": "2023-08-18T07:05:03.153907Z",
     "iopub.status.busy": "2023-08-18T07:05:03.152814Z",
     "iopub.status.idle": "2023-08-18T07:05:03.160277Z",
     "shell.execute_reply": "2023-08-18T07:05:03.159188Z"
    },
    "origin_pos": 65,
    "tab": [
     "pytorch"
    ]
   },
   "outputs": [
    {
     "data": {
      "text/plain": [
       "tensor(66.)"
      ]
     },
     "execution_count": 14,
     "metadata": {},
     "output_type": "execute_result"
    }
   ],
   "source": [
    "X.sum()"
   ]
  },
  {
   "cell_type": "markdown",
   "id": "e4420b99",
   "metadata": {
    "origin_pos": 67
   },
   "source": [
    "## 广播机制\n",
    ":label:`subsec_broadcasting`\n",
    "\n",
    "在上面的部分中，我们看到了如何在相同形状的两个张量上执行按元素操作。\n",
    "\n",
    "在某些情况下，**即使形状不同，我们仍然可以通过调用 *广播机制*（broadcasting mechanism）来执行按元素操作**。这种机制的工作方式如下：\n",
    "\n",
    "1. 通过适当复制元素来扩展一个或两个数组，以便在转换之后，两个张量具有相同的形状；\n",
    "2. 对生成的数组执行按元素操作。\n",
    "\n",
    "在大多数情况下，我们将沿着数组中长度为1的轴进行广播，如下例子：\n"
   ]
  },
  {
   "cell_type": "code",
   "execution_count": 15,
   "id": "a1de79a2",
   "metadata": {
    "execution": {
     "iopub.execute_input": "2023-08-18T07:05:03.165305Z",
     "iopub.status.busy": "2023-08-18T07:05:03.164274Z",
     "iopub.status.idle": "2023-08-18T07:05:03.172771Z",
     "shell.execute_reply": "2023-08-18T07:05:03.171692Z"
    },
    "origin_pos": 69,
    "tab": [
     "pytorch"
    ]
   },
   "outputs": [
    {
     "data": {
      "text/plain": [
       "(tensor([[0],\n",
       "         [1],\n",
       "         [2]]),\n",
       " tensor([[0, 1]]))"
      ]
     },
     "execution_count": 15,
     "metadata": {},
     "output_type": "execute_result"
    }
   ],
   "source": [
    "a = torch.arange(3).reshape((3, 1))\n",
    "b = torch.arange(2).reshape((1, 2))\n",
    "a, b"
   ]
  },
  {
   "cell_type": "markdown",
   "id": "e4f53984",
   "metadata": {
    "origin_pos": 72
   },
   "source": [
    "由于 `a` 和 `b` 分别是 $3\\times1$ 和 $1\\times2$ 矩阵，如果让它们相加，它们的形状不匹配。\n",
    "\n",
    "我们将两个矩阵 *广播* 为一个更大的 $3\\times2$ 矩阵，如下所示：矩阵 `a` 将复制列，矩阵 `b` 将复制行，然后再按元素相加。\n"
   ]
  },
  {
   "cell_type": "code",
   "execution_count": 16,
   "id": "4d8904b1",
   "metadata": {
    "execution": {
     "iopub.execute_input": "2023-08-18T07:05:03.177900Z",
     "iopub.status.busy": "2023-08-18T07:05:03.176935Z",
     "iopub.status.idle": "2023-08-18T07:05:03.184212Z",
     "shell.execute_reply": "2023-08-18T07:05:03.183156Z"
    },
    "origin_pos": 73,
    "tab": [
     "pytorch"
    ]
   },
   "outputs": [
    {
     "data": {
      "text/plain": [
       "tensor([[0, 1],\n",
       "        [1, 2],\n",
       "        [2, 3]])"
      ]
     },
     "execution_count": 16,
     "metadata": {},
     "output_type": "execute_result"
    }
   ],
   "source": [
    "a + b"
   ]
  },
  {
   "cell_type": "markdown",
   "id": "68b62722",
   "metadata": {
    "origin_pos": 74
   },
   "source": [
    "## 索引和切片\n",
    "\n",
    "就像在任何其他 Python 数组中一样，张量中的元素可以通过索引访问。与任何 Python 数组一样：第一个元素的索引是 0，最后一个元素索引是 -1；可以指定范围以包含第一个元素和最后一个之前的元素。\n",
    "\n",
    "如下所示，我们**可以用 `[-1]` 选择最后一个元素，可以用 `[1:3]` 选择第二个和第三个元素**：\n"
   ]
  },
  {
   "cell_type": "code",
   "id": "b62b00c7",
   "metadata": {
    "execution": {
     "iopub.execute_input": "2023-08-18T07:05:03.189786Z",
     "iopub.status.busy": "2023-08-18T07:05:03.188961Z",
     "iopub.status.idle": "2023-08-18T07:05:03.197712Z",
     "shell.execute_reply": "2023-08-18T07:05:03.196559Z"
    },
    "origin_pos": 75,
    "tab": [
     "pytorch"
    ],
    "ExecuteTime": {
     "end_time": "2025-10-13T07:57:41.618458Z",
     "start_time": "2025-10-13T07:57:41.560823Z"
    }
   },
   "source": "X, X[-1], X[1:3]",
   "outputs": [
    {
     "data": {
      "text/plain": [
       "(tensor([[ 0.,  1.,  2.,  3.],\n",
       "         [ 4.,  5.,  6.,  7.],\n",
       "         [ 8.,  9., 10., 11.]]),\n",
       " tensor([ 8.,  9., 10., 11.]),\n",
       " tensor([[ 4.,  5.,  6.,  7.],\n",
       "         [ 8.,  9., 10., 11.]]))"
      ]
     },
     "execution_count": 17,
     "metadata": {},
     "output_type": "execute_result"
    }
   ],
   "execution_count": 17
  },
  {
   "cell_type": "markdown",
   "id": "49b18803",
   "metadata": {
    "origin_pos": 76,
    "tab": [
     "pytorch"
    ]
   },
   "source": [
    "[**除读取外，我们还可以通过指定索引来将元素写入矩阵。**]\n"
   ]
  },
  {
   "cell_type": "code",
   "execution_count": 18,
   "id": "56a8261a",
   "metadata": {
    "execution": {
     "iopub.execute_input": "2023-08-18T07:05:03.203157Z",
     "iopub.status.busy": "2023-08-18T07:05:03.202390Z",
     "iopub.status.idle": "2023-08-18T07:05:03.210176Z",
     "shell.execute_reply": "2023-08-18T07:05:03.209097Z"
    },
    "origin_pos": 78,
    "tab": [
     "pytorch"
    ]
   },
   "outputs": [
    {
     "data": {
      "text/plain": [
       "tensor([[ 0.,  1.,  2.,  3.],\n",
       "        [ 4.,  5.,  9.,  7.],\n",
       "        [ 8.,  9., 10., 11.]])"
      ]
     },
     "execution_count": 18,
     "metadata": {},
     "output_type": "execute_result"
    }
   ],
   "source": [
    "X[1, 2] = 9\n",
    "X"
   ]
  },
  {
   "cell_type": "markdown",
   "id": "fdec2856",
   "metadata": {
    "origin_pos": 80
   },
   "source": [
    "如果我们想[**为多个元素赋值相同的值，我们只需要索引所有元素，然后为它们赋值。**]\n",
    "例如，`[0:2, :]`访问第1行和第2行，其中“:”代表沿轴1（列）的所有元素。\n",
    "虽然我们讨论的是矩阵的索引，但这也适用于向量和超过2个维度的张量。\n"
   ]
  },
  {
   "cell_type": "code",
   "execution_count": 19,
   "id": "bd48bae9",
   "metadata": {
    "execution": {
     "iopub.execute_input": "2023-08-18T07:05:03.214118Z",
     "iopub.status.busy": "2023-08-18T07:05:03.213430Z",
     "iopub.status.idle": "2023-08-18T07:05:03.221215Z",
     "shell.execute_reply": "2023-08-18T07:05:03.220084Z"
    },
    "origin_pos": 81,
    "tab": [
     "pytorch"
    ]
   },
   "outputs": [
    {
     "data": {
      "text/plain": [
       "tensor([[12., 12., 12., 12.],\n",
       "        [12., 12., 12., 12.],\n",
       "        [ 8.,  9., 10., 11.]])"
      ]
     },
     "execution_count": 19,
     "metadata": {},
     "output_type": "execute_result"
    }
   ],
   "source": [
    "X[0:2, :] = 12\n",
    "X"
   ]
  },
  {
   "metadata": {},
   "cell_type": "markdown",
   "source": [
    "## 转秩\n",
    "\n",
    "在 PyTorch 中有两个函数，分别是 permute() 和 transpose() 可以用来实现矩阵的转秩，或者说交换不同维度的数据。比如在调整卷积层的尺寸、修改 channel 的顺序、变换全连接层的大小的时候，我们就要用到它们。\n",
    "\n",
    "用 permute 函数可以对任意高维矩阵进行转置"
   ],
   "id": "c0380a326e6685e9"
  },
  {
   "metadata": {
    "ExecuteTime": {
     "end_time": "2025-10-15T06:11:19.931644Z",
     "start_time": "2025-10-15T06:11:19.924863Z"
    }
   },
   "cell_type": "code",
   "source": [
    "x = torch.rand(2,3,5)\n",
    "y = x.permute(2,1,0)\n",
    "x.shape, y.shape"
   ],
   "id": "90ce0c78680a0948",
   "outputs": [
    {
     "data": {
      "text/plain": [
       "(torch.Size([2, 3, 5]), torch.Size([5, 3, 2]))"
      ]
     },
     "execution_count": 5,
     "metadata": {},
     "output_type": "execute_result"
    }
   ],
   "execution_count": 5
  },
  {
   "metadata": {},
   "cell_type": "markdown",
   "source": "transpose，不同于 permute，它每次只能转换两个维度，或者说交换两个维度的数据。",
   "id": "b2dfc6a794ad747c"
  },
  {
   "metadata": {
    "ExecuteTime": {
     "end_time": "2025-10-15T06:13:04.460260Z",
     "start_time": "2025-10-15T06:13:04.451810Z"
    }
   },
   "cell_type": "code",
   "source": [
    "y = x.transpose(1,0)\n",
    "x.shape, y.shape"
   ],
   "id": "64e78ca492908be9",
   "outputs": [
    {
     "data": {
      "text/plain": [
       "(torch.Size([2, 3, 5]), torch.Size([3, 2, 5]))"
      ]
     },
     "execution_count": 10,
     "metadata": {},
     "output_type": "execute_result"
    }
   ],
   "execution_count": 10
  },
  {
   "metadata": {},
   "cell_type": "markdown",
   "source": [
    "## 形状变换\n",
    "### view() 与 reshape() 的区别\n",
    "#### view()\n",
    "* 只能用于连续张量\n",
    "* 返回原张量的视图（view），不复制数据\n",
    "* 如果张量非连续会报错\n",
    "#### reshape()\n",
    "* 可以用于任何张量\n",
    "* 如果张量连续，行为与 view() 相同\n",
    "* 如果张量非连续，会自动创建副本"
   ],
   "id": "e20cbbd944ba8b91"
  },
  {
   "metadata": {
    "ExecuteTime": {
     "end_time": "2025-10-15T06:19:06.453702Z",
     "start_time": "2025-10-15T06:19:06.440360Z"
    }
   },
   "cell_type": "code",
   "source": [
    "x = torch.randn(4, 4)\n",
    "print(f\"x:\\n{x.shape}\")\n",
    "x = x.view(2, 8)\n",
    "print(f\"\\nx.view(2, 8):\\n{x.shape}\")\n",
    "\n",
    "x = x.permute(1,0) # 改变了维度顺序，但内存不连续\n",
    "print(f\"\\nx.permute(1, 0):\\n{x.shape}\")\n",
    "# 尝试改变形状，但此时内存不连续导致失败\n",
    "# x = x.view(4, 4)\n",
    "# 先转换为连续张量再使用 view\n",
    "x = x.contiguous().view(4, 4)\n",
    "print(f\"\\nx.contiguous().view(4, 4):\\n{x.shape}\")"
   ],
   "id": "3091c15e2ffa6023",
   "outputs": [
    {
     "name": "stdout",
     "output_type": "stream",
     "text": [
      "x:\n",
      "torch.Size([4, 4])\n",
      "\n",
      "x.view(2, 8):\n",
      "torch.Size([2, 8])\n",
      "\n",
      "x.permute(1, 0):\n",
      "torch.Size([8, 2])\n",
      "\n",
      "x.contiguous().view(4, 4):\n",
      "torch.Size([4, 4])\n"
     ]
    }
   ],
   "execution_count": 18
  },
  {
   "metadata": {
    "ExecuteTime": {
     "end_time": "2025-10-15T06:19:31.812260Z",
     "start_time": "2025-10-15T06:19:31.803839Z"
    }
   },
   "cell_type": "code",
   "source": [
    "# 连续张量 - 两者都可用\n",
    "x = torch.randn(4, 4)\n",
    "y1 = x.view(2, 8)      # 成功\n",
    "y2 = x.reshape(2, 8)   # 成功\n",
    "\n",
    "# 非连续张量\n",
    "x = torch.randn(4, 4)\n",
    "x = x.permute(1, 0)    # 变为非连续\n",
    "# y1 = x.view(2, 8)    # 报错！\n",
    "y2 = x.reshape(2, 8)   # 成功\n"
   ],
   "id": "f0abb62bb3891e1f",
   "outputs": [],
   "execution_count": 19
  },
  {
   "cell_type": "markdown",
   "id": "79660f82",
   "metadata": {
    "origin_pos": 83
   },
   "source": [
    "## 节省内存\n",
    "\n",
    "[**运行一些操作可能会导致为新结果分配内存**]。\n",
    "例如，如果我们用`Y = X + Y`，我们将取消引用`Y`指向的张量，而是指向新分配的内存处的张量。\n",
    "\n",
    "在下面的例子中，我们用Python的`id()`函数演示了这一点，\n",
    "它给我们提供了内存中引用对象的确切地址。\n",
    "运行`Y = Y + X`后，我们会发现`id(Y)`指向另一个位置。\n",
    "这是因为Python首先计算`Y + X`，为结果分配新的内存，然后使`Y`指向内存中的这个新位置。\n"
   ]
  },
  {
   "cell_type": "code",
   "execution_count": 20,
   "id": "6bcd6d07",
   "metadata": {
    "execution": {
     "iopub.execute_input": "2023-08-18T07:05:03.225106Z",
     "iopub.status.busy": "2023-08-18T07:05:03.224353Z",
     "iopub.status.idle": "2023-08-18T07:05:03.231715Z",
     "shell.execute_reply": "2023-08-18T07:05:03.230626Z"
    },
    "origin_pos": 84,
    "tab": [
     "pytorch"
    ]
   },
   "outputs": [
    {
     "data": {
      "text/plain": [
       "False"
      ]
     },
     "execution_count": 20,
     "metadata": {},
     "output_type": "execute_result"
    }
   ],
   "source": [
    "before = id(Y)\n",
    "Y = Y + X\n",
    "id(Y) == before"
   ]
  },
  {
   "cell_type": "markdown",
   "id": "fdb5a8e4",
   "metadata": {
    "origin_pos": 85
   },
   "source": [
    "这可能是不可取的，原因有两个：\n",
    "\n",
    "1. 首先，我们不想总是不必要地分配内存。在机器学习中，我们可能有数百兆的参数，并且在一秒内多次更新所有参数。通常情况下，我们希望原地执行这些更新；\n",
    "2. 如果我们不原地更新，其他引用仍然会指向旧的内存位置，这样我们的某些代码可能会无意中引用旧的参数。\n"
   ]
  },
  {
   "cell_type": "markdown",
   "id": "47e2e97c",
   "metadata": {
    "origin_pos": 86,
    "tab": [
     "pytorch"
    ]
   },
   "source": [
    "幸运的是，(**执行原地操作**)非常简单。\n",
    "我们可以使用切片表示法将操作的结果分配给先前分配的数组，例如`Y[:] = <expression>`。\n",
    "为了说明这一点，我们首先创建一个新的矩阵`Z`，其形状与另一个`Y`相同，\n",
    "使用`zeros_like`来分配一个全$0$的块。\n"
   ]
  },
  {
   "cell_type": "code",
   "execution_count": 21,
   "id": "13b7fdf6",
   "metadata": {
    "execution": {
     "iopub.execute_input": "2023-08-18T07:05:03.236933Z",
     "iopub.status.busy": "2023-08-18T07:05:03.236016Z",
     "iopub.status.idle": "2023-08-18T07:05:03.243252Z",
     "shell.execute_reply": "2023-08-18T07:05:03.242153Z"
    },
    "origin_pos": 89,
    "tab": [
     "pytorch"
    ]
   },
   "outputs": [
    {
     "name": "stdout",
     "output_type": "stream",
     "text": [
      "id(Z): 140327634811696\n",
      "id(Z): 140327634811696\n"
     ]
    }
   ],
   "source": [
    "Z = torch.zeros_like(Y)\n",
    "print('id(Z):', id(Z))\n",
    "Z[:] = X + Y\n",
    "print('id(Z):', id(Z))"
   ]
  },
  {
   "cell_type": "markdown",
   "id": "36a38425",
   "metadata": {
    "origin_pos": 92,
    "tab": [
     "pytorch"
    ]
   },
   "source": [
    "[**如果在后续计算中没有重复使用`X`，\n",
    "我们也可以使用`X[:] = X + Y`或`X += Y`来减少操作的内存开销。**]\n"
   ]
  },
  {
   "cell_type": "code",
   "execution_count": 22,
   "id": "c8a97d75",
   "metadata": {
    "execution": {
     "iopub.execute_input": "2023-08-18T07:05:03.248290Z",
     "iopub.status.busy": "2023-08-18T07:05:03.247521Z",
     "iopub.status.idle": "2023-08-18T07:05:03.255046Z",
     "shell.execute_reply": "2023-08-18T07:05:03.253935Z"
    },
    "origin_pos": 94,
    "tab": [
     "pytorch"
    ]
   },
   "outputs": [
    {
     "data": {
      "text/plain": [
       "True"
      ]
     },
     "execution_count": 22,
     "metadata": {},
     "output_type": "execute_result"
    }
   ],
   "source": [
    "before = id(X)\n",
    "X += Y\n",
    "id(X) == before"
   ]
  },
  {
   "cell_type": "markdown",
   "id": "3185bd60",
   "metadata": {
    "origin_pos": 96
   },
   "source": [
    "## 转换为其他Python对象\n"
   ]
  },
  {
   "cell_type": "markdown",
   "id": "d871a6fa",
   "metadata": {
    "origin_pos": 98,
    "tab": [
     "pytorch"
    ]
   },
   "source": [
    "将深度学习框架定义的张量[**转换为NumPy张量（`ndarray`）**]很容易，反之也同样容易。\n",
    "torch张量和numpy数组将共享它们的底层内存，就地操作更改一个张量也会同时更改另一个张量。\n"
   ]
  },
  {
   "cell_type": "code",
   "execution_count": 23,
   "id": "7386f580",
   "metadata": {
    "execution": {
     "iopub.execute_input": "2023-08-18T07:05:03.259655Z",
     "iopub.status.busy": "2023-08-18T07:05:03.259273Z",
     "iopub.status.idle": "2023-08-18T07:05:03.266501Z",
     "shell.execute_reply": "2023-08-18T07:05:03.265738Z"
    },
    "origin_pos": 100,
    "tab": [
     "pytorch"
    ]
   },
   "outputs": [
    {
     "data": {
      "text/plain": [
       "(numpy.ndarray, torch.Tensor)"
      ]
     },
     "execution_count": 23,
     "metadata": {},
     "output_type": "execute_result"
    }
   ],
   "source": [
    "A = X.numpy()\n",
    "B = torch.tensor(A)\n",
    "type(A), type(B)"
   ]
  },
  {
   "cell_type": "markdown",
   "id": "74f0ae4e",
   "metadata": {
    "origin_pos": 103
   },
   "source": [
    "要(**将大小为1的张量转换为Python标量**)，我们可以调用`item`函数或Python的内置函数。\n"
   ]
  },
  {
   "cell_type": "code",
   "execution_count": 24,
   "id": "10a429bd",
   "metadata": {
    "execution": {
     "iopub.execute_input": "2023-08-18T07:05:03.270566Z",
     "iopub.status.busy": "2023-08-18T07:05:03.270102Z",
     "iopub.status.idle": "2023-08-18T07:05:03.276982Z",
     "shell.execute_reply": "2023-08-18T07:05:03.276051Z"
    },
    "origin_pos": 105,
    "tab": [
     "pytorch"
    ]
   },
   "outputs": [
    {
     "data": {
      "text/plain": [
       "(tensor([3.5000]), 3.5, 3.5, 3)"
      ]
     },
     "execution_count": 24,
     "metadata": {},
     "output_type": "execute_result"
    }
   ],
   "source": [
    "a = torch.tensor([3.5])\n",
    "a, a.item(), float(a), int(a)"
   ]
  },
  {
   "cell_type": "markdown",
   "id": "ed98db5b",
   "metadata": {
    "origin_pos": 108
   },
   "source": [
    "## 小结\n",
    "\n",
    "* 深度学习存储和操作数据的主要接口是张量（ $n$ 维数组）。它提供了各种功能，包括基本数学运算、广播、索引、切片、内存节省和转换其他 Python 对象。"
   ]
  }
 ],
 "metadata": {
  "language_info": {
   "name": "python"
  },
  "required_libs": []
 },
 "nbformat": 4,
 "nbformat_minor": 5
}
